{
 "cells": [
  {
   "cell_type": "markdown",
   "metadata": {
    "collapsed": true,
    "pycharm": {
     "name": "#%% md\n"
    }
   },
   "source": [
    "# ATDA 5340 - Final - Part  - ML Supervised - Denis Shilkin\n",
    "car_evaluation.csv\n",
    "<br> K-Means"
   ]
  },
  {
   "cell_type": "code",
   "execution_count": 15,
   "metadata": {
    "pycharm": {
     "is_executing": false,
     "name": "#%%\n"
    }
   },
   "outputs": [
    {
     "name": "stdout",
     "output_type": "stream",
     "text": [
      "Diagnostic: libraries loaded\n"
     ]
    }
   ],
   "source": [
    "# import libraries \n",
    "import pandas as pd\n",
    "import numpy as np\n",
    "from pandas import Series\n",
    "\n",
    "from pandas.plotting import scatter_matrix\n",
    "from matplotlib import pyplot\n",
    "from sklearn.metrics import classification_report\n",
    "\n",
    "from sklearn.cluster import KMeans\n",
    "\n",
    "from sklearn.model_selection import train_test_split\n",
    "from sklearn.model_selection import KFold\n",
    "from sklearn.model_selection import cross_val_score\n",
    "\n",
    "# supress warnings\n",
    "import warnings\n",
    "warnings.filterwarnings(\"ignore\")\n",
    "\n",
    "print(\"Diagnostic: libraries loaded\")"
   ]
  },
  {
   "cell_type": "code",
   "execution_count": 16,
   "metadata": {
    "pycharm": {
     "is_executing": false,
     "name": "#%%\n"
    }
   },
   "outputs": [
    {
     "name": "stdout",
     "output_type": "stream",
     "text": [
      "(1728, 7)\n"
     ]
    }
   ],
   "source": [
    "#load dataset\n",
    "filename = \"car_evaluation.csv\"\n",
    "df = pd.read_csv(filename, index_col=False, names=['Price','Maintenance','Doors','Passengers','Luggage','Safety','Evaluation'])\n",
    "\n",
    "print(df.shape)"
   ]
  },
  {
   "cell_type": "code",
   "execution_count": 17,
   "metadata": {
    "pycharm": {
     "is_executing": false,
     "name": "#%%\n"
    }
   },
   "outputs": [
    {
     "name": "stdout",
     "output_type": "stream",
     "text": [
      "   Price Maintenance Doors Passengers Luggage Safety Evaluation\n",
      "0  vhigh       vhigh     2          2   small    low      unacc\n",
      "1  vhigh       vhigh     2          2   small    med      unacc\n",
      "2  vhigh       vhigh     2          2   small   high      unacc\n",
      "3  vhigh       vhigh     2          2     med    low      unacc\n",
      "4  vhigh       vhigh     2          2     med    med      unacc\n"
     ]
    }
   ],
   "source": [
    "#check and clean\n",
    "print(df.head(5))"
   ]
  },
  {
   "cell_type": "code",
   "execution_count": 18,
   "metadata": {
    "pycharm": {
     "is_executing": false,
     "name": "#%%\n"
    }
   },
   "outputs": [
    {
     "name": "stdout",
     "output_type": "stream",
     "text": [
      "Price          object\n",
      "Maintenance    object\n",
      "Doors          object\n",
      "Passengers     object\n",
      "Luggage        object\n",
      "Safety         object\n",
      "Evaluation     object\n",
      "dtype: object\n"
     ]
    }
   ],
   "source": [
    "print(df.dtypes)"
   ]
  },
  {
   "cell_type": "code",
   "execution_count": 19,
   "metadata": {
    "pycharm": {
     "is_executing": false,
     "name": "#%%\n"
    }
   },
   "outputs": [],
   "source": [
    "# Need to replace non-numeric values into numeric\n",
    "df[['Doors']]=df[['Doors']].replace(\"5more\",5)\n",
    "df[['Passengers']]=df[['Passengers']].replace(\"more\",5)\n",
    "\n",
    "df[\"Doors\"] = pd.to_numeric(df[\"Doors\"])\n",
    "df[\"Passengers\"] = pd.to_numeric(df[\"Passengers\"])"
   ]
  },
  {
   "cell_type": "code",
   "execution_count": 20,
   "metadata": {
    "pycharm": {
     "is_executing": false,
     "name": "#%%\n"
    }
   },
   "outputs": [
    {
     "name": "stdout",
     "output_type": "stream",
     "text": [
      "   Price  Maintenance  Doors  Passengers  Luggage  Safety Evaluation\n",
      "0      3            3      2           2        0       0      unacc\n",
      "1      3            3      2           2        0       1      unacc\n",
      "2      3            3      2           2        0       2      unacc\n",
      "3      3            3      2           2        1       0      unacc\n",
      "4      3            3      2           2        1       1      unacc\n",
      "Price           int64\n",
      "Maintenance     int64\n",
      "Doors           int64\n",
      "Passengers      int64\n",
      "Luggage         int64\n",
      "Safety          int64\n",
      "Evaluation     object\n",
      "dtype: object\n"
     ]
    }
   ],
   "source": [
    "#changing non numeric values into numerinc\n",
    "Price = Series([0,1,2,3],index=['low','med','high','vhigh'])    \n",
    "df['Price']=df.Price.map(Price)\n",
    "\n",
    "Maintenance = Series([0,1,2,3],index=['low','med','high','vhigh'])    \n",
    "df['Maintenance']=df.Maintenance.map(Maintenance)\n",
    "\n",
    "Luggage = Series([0,1,2],index=['small','med','big'])    \n",
    "df['Luggage']=df.Luggage.map(Luggage)\n",
    "\n",
    "Safety = Series([0,1,2],index=['low','med','high'])    \n",
    "df['Safety']=df.Safety.map(Safety)\n",
    "\n",
    "print(df.head(5))\n",
    "print(df.dtypes)"
   ]
  },
  {
   "cell_type": "code",
   "execution_count": 21,
   "metadata": {
    "pycharm": {
     "is_executing": false,
     "name": "#%%\n"
    }
   },
   "outputs": [
    {
     "name": "stdout",
     "output_type": "stream",
     "text": [
      "             Price  Maintenance        Doors   Passengers      Luggage  \\\n",
      "count  1728.000000  1728.000000  1728.000000  1728.000000  1728.000000   \n",
      "mean      1.500000     1.500000     3.500000     3.666667     1.000000   \n",
      "std       1.118358     1.118358     1.118358     1.247580     0.816733   \n",
      "min       0.000000     0.000000     2.000000     2.000000     0.000000   \n",
      "25%       0.750000     0.750000     2.750000     2.000000     0.000000   \n",
      "50%       1.500000     1.500000     3.500000     4.000000     1.000000   \n",
      "75%       2.250000     2.250000     4.250000     5.000000     2.000000   \n",
      "max       3.000000     3.000000     5.000000     5.000000     2.000000   \n",
      "\n",
      "            Safety  \n",
      "count  1728.000000  \n",
      "mean      1.000000  \n",
      "std       0.816733  \n",
      "min       0.000000  \n",
      "25%       0.000000  \n",
      "50%       1.000000  \n",
      "75%       2.000000  \n",
      "max       2.000000  \n"
     ]
    }
   ],
   "source": [
    "#EDA\n",
    "print(df.describe())"
   ]
  },
  {
   "cell_type": "code",
   "execution_count": 22,
   "metadata": {
    "pycharm": {
     "is_executing": false,
     "name": "#%%\n"
    }
   },
   "outputs": [
    {
     "data": {
      "image/png": "[encoded data removed]",
      "text/plain": [
       "<Figure size 864x576 with 6 Axes>"
      ]
     },
     "metadata": {
      "needs_background": "light"
     },
     "output_type": "display_data"
    }
   ],
   "source": [
    "df.hist(figsize=(12, 8))\n",
    "pyplot.show()"
   ]
  },
  {
   "cell_type": "code",
   "execution_count": 23,
   "metadata": {
    "pycharm": {
     "is_executing": false,
     "name": "#%%\n"
    }
   },
   "outputs": [
    {
     "data": {
      "text/plain": [
       "KMeans(algorithm='auto', copy_x=True, init='k-means++', max_iter=300,\n",
       "       n_clusters=4, n_init=10, n_jobs=None, precompute_distances='auto',\n",
       "       random_state=None, tol=0.0001, verbose=0)"
      ]
     },
     "execution_count": 23,
     "metadata": {},
     "output_type": "execute_result"
    }
   ],
   "source": [
    "array = df.values\n",
    "\n",
    "X = array [:,0:6]\n",
    "Y = array [:,6]\n",
    "\n",
    "model = KMeans(n_clusters=4)\n",
    "model.fit(X)"
   ]
  },
  {
   "cell_type": "code",
   "execution_count": 24,
   "metadata": {
    "pycharm": {
     "is_executing": false,
     "name": "#%%\n"
    }
   },
   "outputs": [
    {
     "name": "stdout",
     "output_type": "stream",
     "text": [
      "[[0.8        0.4        3.5        4.5        1.         1.        ]\n",
      " [1.5        1.5        3.5        2.         1.         1.        ]\n",
      " [0.8        2.6        3.5        4.5        1.         1.        ]\n",
      " [2.66666667 1.5        3.5        4.5        1.         1.        ]]\n"
     ]
    }
   ],
   "source": [
    "centroids = model.cluster_centers_\n",
    "print(centroids)"
   ]
  },
  {
   "cell_type": "code",
   "execution_count": 25,
   "metadata": {
    "pycharm": {
     "is_executing": false,
     "name": "#%%\n"
    }
   },
   "outputs": [
    {
     "name": "stdout",
     "output_type": "stream",
     "text": [
      "[1 1 1 3 3 3 3 1 1 3 3 3 3 3 1 1 3 3 3 3 3 1 1 3 3 3 3 1 1 1 3 3 3 3 1 1 3\n",
      " 3 3 3 3 1 1 3 3 3 3 3 1 1 3 3 3 3 1 1 1 3 3 3 3 1 1 3 3 3 3 3 1 1 3 3 3 3\n",
      " 3 1 1 3 3 3 3 1 1 1 3 3 3 3 1 1 3 3 3 3 3 1 1 3 3 3 3 3 1 1 3 3 3 3 1 1 1\n",
      " 2 2 2 2 1 1 2 2 2 2 2 1 1 2 2 2 2 2 1 1 2 2 2 2 1 1 1 3 3 3 3 1 1 3 3 3 3\n",
      " 3 1 1 3 3 3 3 3 1 1 3 3 3 3 1 1 1 3 3 3 3 1 1 3 3 3 3 3 1 1 3 3 3 3 3 1 1\n",
      " 3 3 3 3 1 1 1 0 0 0 0 1 1 0 0 0 0 0 1 1 0 0 0 0 0 1 1 0 0 0 0 1 1 1 2 2 2\n",
      " 2 1 1 2 2 2 2 2 1 1 2 2 2 2 2 1 1 2 2 2 2 1 1 1 2 2 2 2 1 1 2 2 2 2 2 1 1\n",
      " 2 2 2 2 2 1 1 2 2 2 2 1 1 1 0 0 0 0 1 1 0 0 0 0 0 1 1 0 0 0 0 0 1 1 0 0 0\n",
      " 0 1 1 1 0 0 0 0 1 1 0 0 0 0 0 1 1 0 0 0 0 0 1 1 0 0 0 0 1 1 1 2 2 2 2 1 1\n",
      " 2 2 2 2 2 1 1 2 2 2 2 2 1 1 2 2 2 2 1 1 1 2 2 2 2 1 1 2 2 2 2 2 1 1 2 2 2\n",
      " 2 2 1 1 2 2 2 2 1 1 1 0 0 0 0 1 1 0 0 0 0 0 1 1 0 0 0 0 0 1 1 0 0 0 0 1 1\n",
      " 1 0 0 0 0 1 1 0 0 0 0 0 1 1 0 0 0 0 0 1 1 0 0 0 0]\n"
     ]
    }
   ],
   "source": [
    "cluster_labels = model.labels_[::4]\n",
    "print(cluster_labels)"
   ]
  },
  {
   "cell_type": "code",
   "execution_count": 26,
   "metadata": {
    "pycharm": {
     "is_executing": false,
     "name": "#%%\n"
    }
   },
   "outputs": [
    {
     "data": {
      "image/png": "[encoded data removed]",
      "text/plain": [
       "<Figure size 432x288 with 1 Axes>"
      ]
     },
     "metadata": {
      "needs_background": "light"
     },
     "output_type": "display_data"
    }
   ],
   "source": [
    "pyplot.scatter(X[:,0], X[:,1], c=model.labels_, cmap='rainbow')\n",
    "\n",
    "lines= pyplot.plot(centroids[0,0], centroids[0,1],'kx', color='black')\n",
    "pyplot.setp(lines, ms=15.0)\n",
    "pyplot.setp(lines, mew=2.0)\n",
    "\n",
    "lines= pyplot.plot(centroids[1,0], centroids[1,1],'kx', color='black')\n",
    "pyplot.setp(lines, ms=15.0)\n",
    "pyplot.setp(lines, mew=2.0)\n",
    "\n",
    "lines= pyplot.plot(centroids[2,0], centroids[2,1],'kx', color='black')\n",
    "pyplot.setp(lines, ms=15.0)\n",
    "pyplot.setp(lines, mew=2.0)\n",
    "\n",
    "lines= pyplot.plot(centroids[3,0], centroids[3,1],'kx', color='black')\n",
    "pyplot.setp(lines, ms=15.0)\n",
    "pyplot.setp(lines, mew=2.0)\n",
    "\n",
    "pyplot.show()"
   ]
  },
  {
   "cell_type": "code",
   "execution_count": 27,
   "metadata": {
    "pycharm": {
     "is_executing": false,
     "name": "#%%\n"
    }
   },
   "outputs": [
    {
     "data": {
      "text/plain": [
       "array([1], dtype=int32)"
      ]
     },
     "execution_count": 27,
     "metadata": {},
     "output_type": "execute_result"
    }
   ],
   "source": [
    "# predict values\n",
    "# sports car: vhigh cost, vhigh maint, 2 doors, 2 passengers, low luggage, medium safety\n",
    "model.predict([[3,3,2,2,0,1]])"
   ]
  },
  {
   "cell_type": "code",
   "execution_count": 28,
   "metadata": {
    "pycharm": {
     "is_executing": false,
     "name": "#%% \n"
    }
   },
   "outputs": [
    {
     "data": {
      "text/plain": [
       "array([2], dtype=int32)"
      ]
     },
     "execution_count": 28,
     "metadata": {},
     "output_type": "execute_result"
    }
   ],
   "source": [
    "# 4doors class model: med cost, high maint, 4 doors, 5 passengers, big luggage, high safety\n",
    "model.predict([[1,2,4,5,2,2]])\n",
    "\n"
   ]
  }
 ],
 "metadata": {
  "kernelspec": {
   "display_name": "Python 3",
   "language": "python",
   "name": "python3"
  },
  "language_info": {
   "codemirror_mode": {
    "name": "ipython",
    "version": 3
   },
   "file_extension": ".py",
   "mimetype": "text/x-python",
   "name": "python",
   "nbconvert_exporter": "python",
   "pygments_lexer": "ipython3",
   "version": "3.5.2"
  },
  "pycharm": {
   "stem_cell": {
    "cell_type": "raw",
    "metadata": {
     "collapsed": false
    },
    "source": []
   }
  }
 },
 "nbformat": 4,
 "nbformat_minor": 1
}
