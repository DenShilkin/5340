{
 "cells": [
  {
   "cell_type": "markdown",
   "metadata": {
    "collapsed": true,
    "pycharm": {
     "name": "#%% md\n"
    }
   },
   "source": [
    "# ATDA 5340 - Final - Part 7 - Evaluate and Compare models - Denis Shilkin\n",
    "Dataset - adult_salary.csv. I removed leading \"space\" symbol from cells with Excel"
   ]
  },
  {
   "cell_type": "code",
   "execution_count": 18,
   "metadata": {
    "pycharm": {
     "is_executing": false,
     "name": "#%%\n"
    }
   },
   "outputs": [
    {
     "name": "stdout",
     "output_type": "stream",
     "text": [
      "Diagnostic: Libraries loaded\n"
     ]
    }
   ],
   "source": [
    "# import libraries \n",
    "import pandas as pd\n",
    "import numpy as np\n",
    "\n",
    "from pandas import Series\n",
    "\n",
    "from pandas.plotting import scatter_matrix\n",
    "from matplotlib import pyplot\n",
    "from sklearn.metrics import classification_report\n",
    "\n",
    "from sklearn.cluster import KMeans\n",
    "from sklearn.tree import DecisionTreeClassifier\n",
    "\n",
    "from sklearn.model_selection import train_test_split\n",
    "from sklearn.model_selection import KFold\n",
    "from sklearn.model_selection import cross_val_score\n",
    "\n",
    "# supress warnings\n",
    "import warnings\n",
    "warnings.filterwarnings(\"ignore\")\n",
    "\n",
    "print(\"Diagnostic: Libraries loaded\")"
   ]
  },
  {
   "cell_type": "code",
   "execution_count": 2,
   "metadata": {
    "pycharm": {
     "is_executing": false,
     "name": "#%%\n"
    }
   },
   "outputs": [
    {
     "name": "stdout",
     "output_type": "stream",
     "text": [
      "(48842, 15)\n"
     ]
    }
   ],
   "source": [
    "#load dataset\n",
    "filename = \"adult_salary.csv\"\n",
    "df = pd.read_csv(filename, index_col=False)\n",
    "\n",
    "#print shape (rows/records, columns/variables)\n",
    "print(df.shape)"
   ]
  },
  {
   "cell_type": "code",
   "execution_count": 3,
   "metadata": {
    "pycharm": {
     "name": "#%%\n"
    }
   },
   "outputs": [
    {
     "name": "stdout",
     "output_type": "stream",
     "text": [
      "   Age          Emp_type  Fnlwgt  Education  Education_num  \\\n",
      "0   39         State-gov   77516  Bachelors             13   \n",
      "1   50  Self-emp-not-inc   83311  Bachelors             13   \n",
      "2   38           Private  215646    HS-grad              9   \n",
      "3   53           Private  234721       11th              7   \n",
      "4   28           Private  338409  Bachelors             13   \n",
      "\n",
      "              Marital         Occupation   Relationship   Race     Sex  \\\n",
      "0       Never-married       Adm-clerical  Not-in-family  White    Male   \n",
      "1  Married-civ-spouse    Exec-managerial        Husband  White    Male   \n",
      "2            Divorced  Handlers-cleaners  Not-in-family  White    Male   \n",
      "3  Married-civ-spouse  Handlers-cleaners        Husband  Black    Male   \n",
      "4  Married-civ-spouse     Prof-specialty           Wife  Black  Female   \n",
      "\n",
      "   Capital_gain  Capital_loss  weekly_hours        Country Income  \n",
      "0          2174             0            40  United-States  <=50K  \n",
      "1             0             0            13  United-States  <=50K  \n",
      "2             0             0            40  United-States  <=50K  \n",
      "3             0             0            40  United-States  <=50K  \n",
      "4             0             0            40           Cuba  <=50K  \n"
     ]
    }
   ],
   "source": [
    "#print top 5 rows for initial data set\n",
    "print(df.head(5))"
   ]
  },
  {
   "cell_type": "code",
   "execution_count": 5,
   "metadata": {},
   "outputs": [
    {
     "name": "stdout",
     "output_type": "stream",
     "text": [
      "(48842, 14)\n"
     ]
    }
   ],
   "source": [
    "#remove column Fnlwgt and check shape (to verify column is removed)\n",
    "df2 = df[[\"Age\",\"Emp_type\",\"Education\",\"Education_num\",\"Marital\",\"Occupation\",\"Relationship\",\n",
    "       \"Race\",\"Sex\",\"Capital_gain\",\"Capital_loss\",\"weekly_hours\",\"Country\",\"Income\"]]\n",
    "print(df2.shape)"
   ]
  },
  {
   "cell_type": "code",
   "execution_count": 7,
   "metadata": {},
   "outputs": [
    {
     "name": "stdout",
     "output_type": "stream",
     "text": [
      "   Age          Emp_type  Education  Education_num             Marital  \\\n",
      "0   39         State-gov  Bachelors             13       Never-married   \n",
      "1   50  Self-emp-not-inc  Bachelors             13  Married-civ-spouse   \n",
      "2   38           Private    HS-grad              9            Divorced   \n",
      "3   53           Private       11th              7  Married-civ-spouse   \n",
      "4   28           Private  Bachelors             13  Married-civ-spouse   \n",
      "\n",
      "          Occupation   Relationship   Race     Sex  Capital_gain  \\\n",
      "0       Adm-clerical  Not-in-family  White    Male          2174   \n",
      "1    Exec-managerial        Husband  White    Male             0   \n",
      "2  Handlers-cleaners  Not-in-family  White    Male             0   \n",
      "3  Handlers-cleaners        Husband  Black    Male             0   \n",
      "4     Prof-specialty           Wife  Black  Female             0   \n",
      "\n",
      "   Capital_loss  weekly_hours        Country Income  \n",
      "0             0            40  United-States  <=50K  \n",
      "1             0            13  United-States  <=50K  \n",
      "2             0            40  United-States  <=50K  \n",
      "3             0            40  United-States  <=50K  \n",
      "4             0            40           Cuba  <=50K  \n"
     ]
    }
   ],
   "source": [
    "#print top 5 rows for reduced dataset\n",
    "print(df2.head(5))"
   ]
  },
  {
   "cell_type": "code",
   "execution_count": 8,
   "metadata": {},
   "outputs": [
    {
     "name": "stdout",
     "output_type": "stream",
     "text": [
      "Age              0\n",
      "Emp_type         0\n",
      "Education        0\n",
      "Education_num    0\n",
      "Marital          0\n",
      "Occupation       0\n",
      "Relationship     0\n",
      "Race             0\n",
      "Sex              0\n",
      "Capital_gain     0\n",
      "Capital_loss     0\n",
      "weekly_hours     0\n",
      "Country          0\n",
      "Income           0\n",
      "dtype: int64\n"
     ]
    }
   ],
   "source": [
    "# check NaNs\n",
    "print(df2.isnull().sum())"
   ]
  },
  {
   "cell_type": "code",
   "execution_count": 9,
   "metadata": {},
   "outputs": [
    {
     "name": "stdout",
     "output_type": "stream",
     "text": [
      "Income\n",
      "<=50K     24720\n",
      "<=50K.    12435\n",
      ">50K       7841\n",
      ">50K.      3846\n",
      "dtype: int64\n"
     ]
    }
   ],
   "source": [
    "# need to recode Income\n",
    "print(df2.groupby('Income').size())"
   ]
  },
  {
   "cell_type": "code",
   "execution_count": 10,
   "metadata": {},
   "outputs": [
    {
     "name": "stdout",
     "output_type": "stream",
     "text": [
      "Income\n",
      "0    37155\n",
      "1    11687\n",
      "dtype: int64\n"
     ]
    }
   ],
   "source": [
    "# recoding\n",
    "df2[['Income']]=df2[['Income']].replace(\"<=50K.\",0)\n",
    "df2[['Income']]=df2[['Income']].replace(\">50K.\",1)\n",
    "df2[['Income']]=df2[['Income']].replace(\"<=50K\",0)\n",
    "df2[['Income']]=df2[['Income']].replace(\">50K\",1)\n",
    "\n",
    "# print Income split: 0 - less than $50k, 1 - more than $50k\n",
    "print(df2.groupby('Income').size())"
   ]
  },
  {
   "cell_type": "code",
   "execution_count": 11,
   "metadata": {},
   "outputs": [
    {
     "name": "stdout",
     "output_type": "stream",
     "text": [
      "Age               int64\n",
      "Emp_type         object\n",
      "Education        object\n",
      "Education_num     int64\n",
      "Marital          object\n",
      "Occupation       object\n",
      "Relationship     object\n",
      "Race             object\n",
      "Sex              object\n",
      "Capital_gain      int64\n",
      "Capital_loss      int64\n",
      "weekly_hours      int64\n",
      "Country          object\n",
      "Income            int64\n",
      "dtype: object\n"
     ]
    }
   ],
   "source": [
    "#verify types\n",
    "print(df2.dtypes)"
   ]
  },
  {
   "cell_type": "code",
   "execution_count": 14,
   "metadata": {},
   "outputs": [
    {
     "name": "stdout",
     "output_type": "stream",
     "text": [
      "Age              int64\n",
      "Emp_type          int8\n",
      "Education         int8\n",
      "Education_num    int64\n",
      "Marital           int8\n",
      "Occupation        int8\n",
      "Relationship      int8\n",
      "Race              int8\n",
      "Sex              int64\n",
      "Capital_gain     int64\n",
      "Capital_loss     int64\n",
      "weekly_hours     int64\n",
      "Country           int8\n",
      "Income           int64\n",
      "dtype: object\n"
     ]
    }
   ],
   "source": [
    "# convert strings to numeric values\n",
    "Sex = Series([0,1],index=['Male','Female'])    \n",
    "df2['Sex']=df2.Sex.map(Sex)\n",
    "\n",
    "df2.Emp_type = pd.Categorical(df2.Emp_type)\n",
    "df2['Emp_type'] = df2.Emp_type.cat.codes\n",
    "\n",
    "df2.Education = pd.Categorical(df2.Education)\n",
    "df2['Education'] = df2.Education.cat.codes\n",
    "\n",
    "df2.Marital = pd.Categorical(df2.Marital)\n",
    "df2['Marital'] = df2.Marital.cat.codes\n",
    "\n",
    "df2.Occupation = pd.Categorical(df2.Occupation)\n",
    "df2['Occupation'] = df2.Occupation.cat.codes\n",
    "\n",
    "df2.Relationship = pd.Categorical(df2.Relationship)\n",
    "df2['Relationship'] = df2.Relationship.cat.codes\n",
    "\n",
    "df2.Race = pd.Categorical(df2.Race)\n",
    "df2['Race'] = df2.Race.cat.codes\n",
    "\n",
    "df2.Country = pd.Categorical(df2.Country)\n",
    "df2['Country'] = df2.Country.cat.codes\n",
    "\n",
    "#check type after encoding Categorical values \n",
    "print(df2.dtypes)"
   ]
  },
  {
   "cell_type": "code",
   "execution_count": 15,
   "metadata": {},
   "outputs": [
    {
     "name": "stdout",
     "output_type": "stream",
     "text": [
      "                Age      Emp_type     Education  Education_num       Marital  \\\n",
      "count  48842.000000  48842.000000  48842.000000   48842.000000  48842.000000   \n",
      "mean      38.643585      3.870439     10.288420      10.078089      2.618750   \n",
      "std       13.710510      1.464234      3.874492       2.570973      1.507703   \n",
      "min       17.000000      0.000000      0.000000       1.000000      0.000000   \n",
      "25%       28.000000      4.000000      9.000000       9.000000      2.000000   \n",
      "50%       37.000000      4.000000     11.000000      10.000000      2.000000   \n",
      "75%       48.000000      4.000000     12.000000      12.000000      4.000000   \n",
      "max       90.000000      8.000000     15.000000      16.000000      6.000000   \n",
      "\n",
      "         Occupation  Relationship          Race           Sex  Capital_gain  \\\n",
      "count  48842.000000  48842.000000  48842.000000  48842.000000  48842.000000   \n",
      "mean       6.577700      1.443287      3.668052      0.331518   1079.067626   \n",
      "std        4.230509      1.602151      0.845986      0.470764   7452.019058   \n",
      "min        0.000000      0.000000      0.000000      0.000000      0.000000   \n",
      "25%        3.000000      0.000000      4.000000      0.000000      0.000000   \n",
      "50%        7.000000      1.000000      4.000000      0.000000      0.000000   \n",
      "75%       10.000000      3.000000      4.000000      1.000000      0.000000   \n",
      "max       14.000000      5.000000      4.000000      1.000000  99999.000000   \n",
      "\n",
      "       Capital_loss  weekly_hours       Country        Income  \n",
      "count  48842.000000  48842.000000  48842.000000  48842.000000  \n",
      "mean      87.502314     40.422382     36.749355      0.239282  \n",
      "std      403.004552     12.391444      7.775343      0.426649  \n",
      "min        0.000000      1.000000      0.000000      0.000000  \n",
      "25%        0.000000     40.000000     39.000000      0.000000  \n",
      "50%        0.000000     40.000000     39.000000      0.000000  \n",
      "75%        0.000000     45.000000     39.000000      0.000000  \n",
      "max     4356.000000     99.000000     41.000000      1.000000  \n"
     ]
    }
   ],
   "source": [
    "# describe dataset\n",
    "print(df2.describe())"
   ]
  },
  {
   "cell_type": "code",
   "execution_count": 17,
   "metadata": {},
   "outputs": [
    {
     "name": "stdout",
     "output_type": "stream",
     "text": [
      "Diagnostic: dataset split into train and test arrays\n"
     ]
    }
   ],
   "source": [
    "#split array into train and test \n",
    "array = df2.values\n",
    "\n",
    "X = array [:,0:13]\n",
    "Y = array [:,13]\n",
    "\n",
    "test_size = 0.33\n",
    "seed = 7\n",
    "\n",
    "X_train, X_test, Y_train, Y_test = train_test_split(X, Y, random_state=seed)\n",
    "\n",
    "print(\"Diagnostic: dataset split into train and test arrays\")"
   ]
  },
  {
   "cell_type": "code",
   "execution_count": 19,
   "metadata": {},
   "outputs": [
    {
     "data": {
      "text/plain": [
       "DecisionTreeClassifier(class_weight=None, criterion='gini', max_depth=None,\n",
       "            max_features=None, max_leaf_nodes=None,\n",
       "            min_impurity_decrease=0.0, min_impurity_split=None,\n",
       "            min_samples_leaf=1, min_samples_split=2,\n",
       "            min_weight_fraction_leaf=0.0, presort=False, random_state=None,\n",
       "            splitter='best')"
      ]
     },
     "execution_count": 19,
     "metadata": {},
     "output_type": "execute_result"
    }
   ],
   "source": [
    "# Supervised ML\n",
    "model1 = DecisionTreeClassifier()\n",
    "model1.fit(X_train, Y_train)"
   ]
  },
  {
   "cell_type": "code",
   "execution_count": 20,
   "metadata": {},
   "outputs": [
    {
     "name": "stdout",
     "output_type": "stream",
     "text": [
      "              precision    recall  f1-score   support\n",
      "\n",
      "           0       0.87      0.89      0.88      9243\n",
      "           1       0.63      0.60      0.61      2968\n",
      "\n",
      "   micro avg       0.82      0.82      0.82     12211\n",
      "   macro avg       0.75      0.74      0.75     12211\n",
      "weighted avg       0.81      0.82      0.81     12211\n",
      "\n"
     ]
    }
   ],
   "source": [
    "# check prediction\n",
    "predict = model1.predict(X_test)\n",
    "report = classification_report(Y_test, predict)\n",
    "print(report)"
   ]
  },
  {
   "cell_type": "code",
   "execution_count": 21,
   "metadata": {},
   "outputs": [
    {
     "name": "stdout",
     "output_type": "stream",
     "text": [
      "81.590%\n"
     ]
    }
   ],
   "source": [
    "# accuracy level\n",
    "score = model1.score(X_test, Y_test)\n",
    "print((\"%.3f%%\") % (score*100.0))"
   ]
  },
  {
   "cell_type": "code",
   "execution_count": 22,
   "metadata": {},
   "outputs": [
    {
     "name": "stdout",
     "output_type": "stream",
     "text": [
      "0.821 (0.006)\n"
     ]
    }
   ],
   "source": [
    "#Evaluate\n",
    "num_folds = 10\n",
    "seed = 7\n",
    "\n",
    "kfold = KFold(n_splits=num_folds, random_state=seed)\n",
    "results = cross_val_score(model1, X, Y, cv=kfold, scoring='accuracy')\n",
    "\n",
    "print(\"%.3f (%.3f)\" % (results.mean(), results.std()))"
   ]
  },
  {
   "cell_type": "code",
   "execution_count": 51,
   "metadata": {},
   "outputs": [
    {
     "data": {
      "text/plain": [
       "KMeans(algorithm='auto', copy_x=True, init='k-means++', max_iter=300,\n",
       "    n_clusters=2, n_init=10, n_jobs=None, precompute_distances='auto',\n",
       "    random_state=None, tol=0.0001, verbose=0)"
      ]
     },
     "execution_count": 51,
     "metadata": {},
     "output_type": "execute_result"
    }
   ],
   "source": [
    "#unsupervised ML\n",
    "model2 = KMeans(n_clusters=2)\n",
    "model2.fit(X)"
   ]
  },
  {
   "cell_type": "code",
   "execution_count": 52,
   "metadata": {},
   "outputs": [
    {
     "name": "stdout",
     "output_type": "stream",
     "text": [
      "[[3.86035845e+01 3.86748426e+00 1.02825836e+01 1.00632948e+01\n",
      "  2.62140417e+00 6.57267789e+00 1.44719947e+00 3.66778468e+00\n",
      "  3.32441664e-01 5.82412136e+02 8.79416437e+01 4.03719083e+01\n",
      "  3.67514507e+01]\n",
      " [4.66106557e+01 4.45901639e+00 1.14508197e+01 1.30245902e+01\n",
      "  2.09016393e+00 7.57786885e+00 6.63934426e-01 3.72131148e+00\n",
      "  1.47540984e-01 9.99990000e+04 9.94759830e-14 5.04754098e+01\n",
      "  3.63319672e+01]]\n"
     ]
    }
   ],
   "source": [
    "#centers of the clusters\n",
    "centroids = model2.cluster_centers_\n",
    "print(centroids)"
   ]
  },
  {
   "cell_type": "code",
   "execution_count": 53,
   "metadata": {},
   "outputs": [
    {
     "name": "stdout",
     "output_type": "stream",
     "text": [
      "[0 0 0 ... 0 0 0]\n"
     ]
    }
   ],
   "source": [
    "cluster_labels = model2.labels_[::10]\n",
    "print(cluster_labels)"
   ]
  },
  {
   "cell_type": "code",
   "execution_count": 54,
   "metadata": {},
   "outputs": [
    {
     "name": "stdout",
     "output_type": "stream",
     "text": [
      "[0 0 0 ... 0 0 0]\n"
     ]
    }
   ],
   "source": [
    "cluster_labels = model2.labels_\n",
    "print(cluster_labels)"
   ]
  },
  {
   "cell_type": "code",
   "execution_count": 55,
   "metadata": {},
   "outputs": [
    {
     "data": {
      "image/png": "[encoded data removed]",
      "text/plain": [
       "<Figure size 432x288 with 1 Axes>"
      ]
     },
     "metadata": {
      "needs_background": "light"
     },
     "output_type": "display_data"
    }
   ],
   "source": [
    "pyplot.scatter(X[:,0], X[:,1], c=model2.labels_, cmap='rainbow')\n",
    "\n",
    "lines= pyplot.plot(centroids[0,0], centroids[0,1],'kx', color='black')\n",
    "pyplot.setp(lines, ms=15.0)\n",
    "pyplot.setp(lines, mew=2.0)\n",
    "\n",
    "lines= pyplot.plot(centroids[1,0], centroids[1,1],'kx', color='black')\n",
    "pyplot.setp(lines, ms=15.0)\n",
    "pyplot.setp(lines, mew=2.0)\n",
    "\n",
    "pyplot.show()"
   ]
  },
  {
   "cell_type": "code",
   "execution_count": 56,
   "metadata": {},
   "outputs": [
    {
     "data": {
      "text/plain": [
       "array([0])"
      ]
     },
     "execution_count": 56,
     "metadata": {},
     "output_type": "execute_result"
    }
   ],
   "source": [
    "#prediction: set 1\n",
    "model1.predict([[39,1,0,0,1,1,1,0,0,10000,500,60,0]])"
   ]
  },
  {
   "cell_type": "code",
   "execution_count": 57,
   "metadata": {},
   "outputs": [
    {
     "data": {
      "text/plain": [
       "array([0], dtype=int32)"
      ]
     },
     "execution_count": 57,
     "metadata": {},
     "output_type": "execute_result"
    }
   ],
   "source": [
    "model2.predict([[39,1,0,0,1,1,1,0,0,10000,500,60,0]])"
   ]
  },
  {
   "cell_type": "code",
   "execution_count": 58,
   "metadata": {},
   "outputs": [
    {
     "data": {
      "text/plain": [
       "array([1])"
      ]
     },
     "execution_count": 58,
     "metadata": {},
     "output_type": "execute_result"
    }
   ],
   "source": [
    "#prediction: set 2\n",
    "model1.predict([[40,1,0,0,1,1,1,0,0,1000,50,80,0]])"
   ]
  },
  {
   "cell_type": "code",
   "execution_count": 59,
   "metadata": {
    "scrolled": true
   },
   "outputs": [
    {
     "data": {
      "text/plain": [
       "array([0], dtype=int32)"
      ]
     },
     "execution_count": 59,
     "metadata": {},
     "output_type": "execute_result"
    }
   ],
   "source": [
    "model2.predict([[40,1,0,0,1,1,1,0,0,1000,50,80,0]])"
   ]
  }
 ],
 "metadata": {
  "kernelspec": {
   "display_name": "Python 3",
   "language": "python",
   "name": "python3"
  },
  "language_info": {
   "codemirror_mode": {
    "name": "ipython",
    "version": 3
   },
   "file_extension": ".py",
   "mimetype": "text/x-python",
   "name": "python",
   "nbconvert_exporter": "python",
   "pygments_lexer": "ipython3",
   "version": "3.5.2"
  },
  "pycharm": {
   "stem_cell": {
    "cell_type": "raw",
    "metadata": {
     "collapsed": false
    },
    "source": []
   }
  }
 },
 "nbformat": 4,
 "nbformat_minor": 1
}
