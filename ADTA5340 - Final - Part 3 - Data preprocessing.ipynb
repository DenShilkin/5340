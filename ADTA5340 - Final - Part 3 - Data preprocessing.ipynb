{
 "cells": [
  {
   "cell_type": "markdown",
   "source": [
    "# ATDA 5340 - Final - Part 3 - Data preprocessing - Denis Shilkin"
   ],
   "metadata": {
    "collapsed": false
   }
  },
  {
   "cell_type": "markdown",
   "source": [
    "https://catalog.data.gov/dataset/aviation-data-and-documentation-from-the-ntsb-accident-database-system\n",
    "<br>Public: This dataset is intended for public access and use. \n",
    "<br>License: No license information was provided. If this work was prepared by an officer or employee of the United States government as part of that person's official duties it is considered a U.S. Government Work. "
   ],
   "metadata": {
    "collapsed": false
   }
  },
  {
   "cell_type": "markdown",
   "source": [
    "## 1. Import libraries"
   ],
   "metadata": {
    "collapsed": false,
    "pycharm": {
     "name": "#%% md\n"
    }
   }
  },
  {
   "cell_type": "code",
   "execution_count": 9,
   "outputs": [
    {
     "name": "stdout",
     "text": [
      "Diagnostic: Libraries loaded, warnings set to \"Ignore\"\n"
     ],
     "output_type": "stream"
    }
   ],
   "source": [
    "# import libraries \n",
    "import pandas as pd\n",
    "import numpy as np\n",
    "\n",
    "from pandas.plotting import scatter_matrix\n",
    "from matplotlib import pyplot\n",
    "\n",
    "# supress warnings\n",
    "import warnings\n",
    "warnings.filterwarnings(\"ignore\")\n",
    "\n",
    "print(\"Diagnostic: Libraries loaded, warnings set to \\\"Ignore\\\"\")"
   ],
   "metadata": {
    "collapsed": false,
    "pycharm": {
     "name": "#%%\n",
     "is_executing": false
    }
   }
  },
  {
   "cell_type": "markdown",
   "source": [
    "## 2. Load dataset and check its size"
   ],
   "metadata": {
    "collapsed": false,
    "pycharm": {
     "name": "#%% md\n"
    }
   }
  },
  {
   "cell_type": "code",
   "execution_count": 10,
   "outputs": [
    {
     "name": "stdout",
     "text": [
      "(84088, 31)\n"
     ],
     "output_type": "stream"
    }
   ],
   "source": [
    "filename = \"convertcsv.csv\"\n",
    "\n",
    "df = pd.read_csv(filename, index_col=False)\n",
    "\n",
    "print(df.shape)"
   ],
   "metadata": {
    "collapsed": false,
    "pycharm": {
     "name": "#%%\n",
     "is_executing": false
    }
   }
  },
  {
   "cell_type": "markdown",
   "source": [
    "Dataset has 84088 records (rows)."
   ],
   "metadata": {
    "collapsed": false,
    "pycharm": {
     "name": "#%% md\n"
    }
   }
  },
  {
   "cell_type": "markdown",
   "source": [
    "### Top 5 rows"
   ],
   "metadata": {
    "collapsed": false,
    "pycharm": {
     "name": "#%% md\n"
    }
   }
  },
  {
   "cell_type": "code",
   "execution_count": 11,
   "outputs": [
    {
     "name": "stdout",
     "text": [
      "         _EventId _InvestigationType _AccidentNumber  _EventDate  \\\n0  20191118X84400           Accident      GAA20CA081  11/17/2019   \n1  20191116X25814           Accident      GAA20CA076  11/15/2019   \n2  20191112X03916           Accident      GAA20CA067  11/12/2019   \n3  20191112X40210           Accident      GAA20CA080  11/11/2019   \n4  20191111X00550           Accident      GAA20CA070  11/11/2019   \n\n            _Location       _Country  _Latitude  _Longitude _AirportCode  \\\n0  West Jefferson, OH  United States  39.935555  -83.236389         49OH   \n1     San Antonio, TX  United States        NaN         NaN          SAT   \n2  Pembroke Pines, FL  United States  26.001111  -80.240833          HWO   \n3      Fitzgerald, GA  United States  31.683889  -83.270834          FZG   \n4       Kalispell, MT  United States  41.240277 -120.526111         9CL3   \n\n       _AirportName  ... _PurposeOfFlight _AirCarrier _TotalFatalInjuries  \\\n0               NaN  ...         Personal         NaN                 NaN   \n1  San Antonio Intl  ...         Personal         NaN                 NaN   \n2       North Perry  ...    Instructional         NaN                 NaN   \n3   Fitzgerald Muni  ...         Personal         NaN                 NaN   \n4            Likely  ...         Personal         NaN                 NaN   \n\n  _TotalSeriousInjuries _TotalMinorInjuries _TotalUninjured _WeatherCondition  \\\n0                   NaN                 NaN             NaN               NaN   \n1                   NaN                 NaN             NaN               NaN   \n2                   NaN                 NaN             NaN               NaN   \n3                   NaN                 NaN             NaN               NaN   \n4                   NaN                 NaN             2.0               NaN   \n\n   _BroadPhaseOfFlight _ReportStatus _PublicationDate  \n0                  NaN   Preliminary       11/19/2019  \n1                  NaN   Preliminary       11/19/2019  \n2                  NaN   Preliminary       11/14/2019  \n3                  NaN   Preliminary       11/20/2019  \n4                  NaN   Preliminary       11/20/2019  \n\n[5 rows x 31 columns]\n"
     ],
     "output_type": "stream"
    }
   ],
   "source": [
    "print(df.head(5))"
   ],
   "metadata": {
    "collapsed": false,
    "pycharm": {
     "name": "#%%\n",
     "is_executing": false
    }
   }
  },
  {
   "cell_type": "markdown",
   "source": [
    "### Bottom 5 rows"
   ],
   "metadata": {
    "collapsed": false,
    "pycharm": {
     "name": "#%% md\n"
    }
   }
  },
  {
   "cell_type": "code",
   "execution_count": 12,
   "outputs": [
    {
     "name": "stdout",
     "text": [
      "             _EventId _InvestigationType _AccidentNumber  _EventDate  \\\n84083  20041105X01764           Accident      CHI79FA064  08/02/1979   \n84084  20001218X45448           Accident      LAX96LA321  06/19/1977   \n84085  20061025X01555           Accident      NYC07LA005  08/30/1974   \n84086  20001218X45447           Accident      LAX94LA336  07/19/1962   \n84087  20001218X45444           Accident      SEA87LA080  10/24/1948   \n\n             _Location       _Country  _Latitude  _Longitude _AirportCode  \\\n84083       Canton, OH  United States        NaN         NaN          NaN   \n84084       EUREKA, CA  United States        NaN         NaN          NaN   \n84085    Saltville, VA  United States  36.922223  -81.878056          NaN   \n84086   BRIDGEPORT, CA  United States        NaN         NaN          NaN   \n84087  MOOSE CREEK, ID  United States        NaN         NaN          NaN   \n\n      _AirportName  ... _PurposeOfFlight _AirCarrier _TotalFatalInjuries  \\\n84083          NaN  ...         Personal         NaN                 1.0   \n84084          NaN  ...         Personal         NaN                 2.0   \n84085          NaN  ...         Personal         NaN                 3.0   \n84086          NaN  ...         Personal         NaN                 4.0   \n84087          NaN  ...         Personal         NaN                 2.0   \n\n      _TotalSeriousInjuries _TotalMinorInjuries _TotalUninjured  \\\n84083                   2.0                 NaN             NaN   \n84084                   0.0                 0.0             0.0   \n84085                   NaN                 NaN             NaN   \n84086                   0.0                 0.0             0.0   \n84087                   0.0                 0.0             0.0   \n\n      _WeatherCondition  _BroadPhaseOfFlight   _ReportStatus _PublicationDate  \n84083               VMC             APPROACH  Probable Cause       04/16/1980  \n84084               IMC               CRUISE  Probable Cause       09/12/2000  \n84085               IMC               CRUISE  Probable Cause       02/26/2007  \n84086               UNK              UNKNOWN  Probable Cause       09/19/1996  \n84087               UNK               CRUISE  Probable Cause              NaN  \n\n[5 rows x 31 columns]\n"
     ],
     "output_type": "stream"
    }
   ],
   "source": [
    "print(df.tail(5))"
   ],
   "metadata": {
    "collapsed": false,
    "pycharm": {
     "name": "#%%\n",
     "is_executing": false
    }
   }
  },
  {
   "cell_type": "markdown",
   "source": [
    "## 3. Data preprocess\n",
    "<br> Check number of NaNs (Null, No Value, etc.)"
   ],
   "metadata": {
    "collapsed": false,
    "pycharm": {
     "name": "#%% md\n"
    }
   }
  },
  {
   "cell_type": "code",
   "execution_count": 13,
   "outputs": [
    {
     "name": "stdout",
     "text": [
      "_EventId                     0\n_InvestigationType           4\n_AccidentNumber              0\n_EventDate                   0\n_Location                   76\n_Country                   507\n_Latitude                54039\n_Longitude               54048\n_AirportCode             36439\n_AirportName             33735\n_InjurySeverity              0\n_AircraftDamage           2676\n_AircraftCategory        56751\n_RegistrationNumber       3778\n_Make                       70\n_Model                      99\n_AmateurBuilt              592\n_NumberOfEngines          4970\n_EngineType               4280\n_FARDescription          57056\n_Schedule                72269\n_PurposeOfFlight          4791\n_AirCarrier              79927\n_TotalFatalInjuries      27068\n_TotalSeriousInjuries    29726\n_TotalMinorInjuries      28523\n_TotalUninjured          14507\n_WeatherCondition         3060\n_BroadPhaseOfFlight       6691\n_ReportStatus                0\n_PublicationDate         14236\ndtype: int64\n"
     ],
     "output_type": "stream"
    }
   ],
   "source": [
    "# check number of NaNs\n",
    "print(df.isnull().sum())"
   ],
   "metadata": {
    "collapsed": false,
    "pycharm": {
     "name": "#%% \n",
     "is_executing": false
    }
   }
  },
  {
   "cell_type": "markdown",
   "source": [
    "### Data fields description and analysis.\n",
    "<br>_EventId 0\n",
    "<br>_InvestigationType 4\n",
    "<br>_AccidentNumber 0\n",
    "<br>_EventDate                   0\n",
    "<br>_Location                   76\n",
    "<br>_Country                   507\n",
    "<br>_Latitude                54039\n",
    "<br>_Longitude               54048\n",
    "<br>_AirportCode             36439\n",
    "<br>_AirportName             33735\n",
    "<br>_InjurySeverity              0\n",
    "<br>_AircraftDamage           2676\n",
    "<br>_AircraftCategory        56751\n",
    "<br>_RegistrationNumber       3778\n",
    "<br>_Make                       70\n",
    "<br>_Model                      99\n",
    "<br>_AmateurBuilt              592\n",
    "<br>_NumberOfEngines          4970\n",
    "<br>_EngineType               4280\n",
    "<br>_FARDescription          57056\n",
    "<br>_Schedule                72269\n",
    "<br>_PurposeOfFlight          4791\n",
    "<br>_AirCarrier              79927\n",
    "<br>_TotalFatalInjuries      27068\n",
    "<br>_TotalSeriousInjuries    29726\n",
    "<br>_TotalMinorInjuries      28523\n",
    "<br>_TotalUninjured          14507\n",
    "<br>_WeatherCondition         3060\n",
    "<br>_BroadPhaseOfFlight       6691\n",
    "<br>_ReportStatus                0\n",
    "<br>_PublicationDate         14236"
   ],
   "metadata": {
    "collapsed": false,
    "pycharm": {
     "name": "#%% md\n"
    }
   }
  },
  {
   "cell_type": "code",
   "execution_count": null,
   "outputs": [],
   "source": [],
   "metadata": {
    "collapsed": false,
    "pycharm": {
     "name": "#%%"
    }
   }
  }
 ],
 "metadata": {
  "kernelspec": {
   "display_name": "Python 3",
   "language": "python",
   "name": "python3"
  },
  "language_info": {
   "codemirror_mode": {
    "name": "ipython",
    "version": 3
   },
   "file_extension": ".py",
   "mimetype": "text/x-python",
   "name": "python",
   "nbconvert_exporter": "python",
   "pygments_lexer": "ipython3",
   "version": "3.5.2"
  },
  "pycharm": {
   "stem_cell": {
    "cell_type": "raw",
    "source": [],
    "metadata": {
     "collapsed": false
    }
   }
  }
 },
 "nbformat": 4,
 "nbformat_minor": 1
}