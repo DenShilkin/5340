{
 "cells": [
  {
   "cell_type": "markdown",
   "metadata": {},
   "source": [
    "# ATDA 5340 - Final - Part 3 - Data preprocessing - Denis Shilkin"
   ]
  },
  {
   "cell_type": "markdown",
   "metadata": {},
   "source": [
    "https://catalog.data.gov/dataset/aviation-data-and-documentation-from-the-ntsb-accident-database-system\n",
    "<br>Public: This dataset is intended for public access and use. \n",
    "<br>License: No license information was provided. If this work was prepared by an officer or employee of the United States government as part of that person's official duties it is considered a U.S. Government Work. "
   ]
  },
  {
   "cell_type": "markdown",
   "metadata": {
    "pycharm": {
     "name": "#%% md\n"
    }
   },
   "source": [
    "### 1. Import libraries"
   ]
  },
  {
   "cell_type": "code",
   "execution_count": 1,
   "metadata": {
    "pycharm": {
     "is_executing": false,
     "name": "#%%\n"
    }
   },
   "outputs": [
    {
     "name": "stdout",
     "output_type": "stream",
     "text": [
      "Diagnostic: Libraries loaded, warnings set to \"Ignore\"\n"
     ]
    }
   ],
   "source": [
    "# import libraries \n",
    "import pandas as pd\n",
    "import numpy as np\n",
    "\n",
    "from pandas.plotting import scatter_matrix\n",
    "from matplotlib import pyplot\n",
    "\n",
    "# supress warnings\n",
    "import warnings\n",
    "warnings.filterwarnings(\"ignore\")\n",
    "\n",
    "print(\"Diagnostic: Libraries loaded, warnings set to \\\"Ignore\\\"\")"
   ]
  },
  {
   "cell_type": "markdown",
   "metadata": {
    "pycharm": {
     "name": "#%% md\n"
    }
   },
   "source": [
    "### 2. Load dataset and check its size"
   ]
  },
  {
   "cell_type": "code",
   "execution_count": 2,
   "metadata": {
    "pycharm": {
     "is_executing": false,
     "name": "#%%\n"
    }
   },
   "outputs": [
    {
     "name": "stdout",
     "output_type": "stream",
     "text": [
      "(84088, 31)\n"
     ]
    }
   ],
   "source": [
    "filename = \"convertcsv.csv\"\n",
    "\n",
    "df = pd.read_csv(filename, index_col=False)\n",
    "\n",
    "print(df.shape)"
   ]
  },
  {
   "cell_type": "markdown",
   "metadata": {
    "pycharm": {
     "name": "#%% md\n"
    }
   },
   "source": [
    "Dataset has 84088 records (rows)."
   ]
  },
  {
   "cell_type": "markdown",
   "metadata": {
    "pycharm": {
     "name": "#%% md\n"
    }
   },
   "source": [
    "### Top 5 rows"
   ]
  },
  {
   "cell_type": "code",
   "execution_count": 3,
   "metadata": {
    "pycharm": {
     "is_executing": false,
     "name": "#%%\n"
    }
   },
   "outputs": [
    {
     "name": "stdout",
     "output_type": "stream",
     "text": [
      "         _EventId _InvestigationType _AccidentNumber  _EventDate  \\\n",
      "0  20191118X84400           Accident      GAA20CA081  11/17/2019   \n",
      "1  20191116X25814           Accident      GAA20CA076  11/15/2019   \n",
      "2  20191112X03916           Accident      GAA20CA067  11/12/2019   \n",
      "3  20191112X40210           Accident      GAA20CA080  11/11/2019   \n",
      "4  20191111X00550           Accident      GAA20CA070  11/11/2019   \n",
      "\n",
      "            _Location       _Country  _Latitude  _Longitude _AirportCode  \\\n",
      "0  West Jefferson, OH  United States  39.935555  -83.236389         49OH   \n",
      "1     San Antonio, TX  United States        NaN         NaN          SAT   \n",
      "2  Pembroke Pines, FL  United States  26.001111  -80.240833          HWO   \n",
      "3      Fitzgerald, GA  United States  31.683889  -83.270834          FZG   \n",
      "4       Kalispell, MT  United States  41.240277 -120.526111         9CL3   \n",
      "\n",
      "       _AirportName  ... _PurposeOfFlight _AirCarrier _TotalFatalInjuries  \\\n",
      "0               NaN  ...         Personal         NaN                 NaN   \n",
      "1  San Antonio Intl  ...         Personal         NaN                 NaN   \n",
      "2       North Perry  ...    Instructional         NaN                 NaN   \n",
      "3   Fitzgerald Muni  ...         Personal         NaN                 NaN   \n",
      "4            Likely  ...         Personal         NaN                 NaN   \n",
      "\n",
      "  _TotalSeriousInjuries _TotalMinorInjuries _TotalUninjured _WeatherCondition  \\\n",
      "0                   NaN                 NaN             NaN               NaN   \n",
      "1                   NaN                 NaN             NaN               NaN   \n",
      "2                   NaN                 NaN             NaN               NaN   \n",
      "3                   NaN                 NaN             NaN               NaN   \n",
      "4                   NaN                 NaN             2.0               NaN   \n",
      "\n",
      "   _BroadPhaseOfFlight _ReportStatus _PublicationDate  \n",
      "0                  NaN   Preliminary       11/19/2019  \n",
      "1                  NaN   Preliminary       11/19/2019  \n",
      "2                  NaN   Preliminary       11/14/2019  \n",
      "3                  NaN   Preliminary       11/20/2019  \n",
      "4                  NaN   Preliminary       11/20/2019  \n",
      "\n",
      "[5 rows x 31 columns]\n"
     ]
    }
   ],
   "source": [
    "print(df.head(5))"
   ]
  },
  {
   "cell_type": "markdown",
   "metadata": {
    "pycharm": {
     "name": "#%% md\n"
    }
   },
   "source": [
    "### Bottom 5 rows"
   ]
  },
  {
   "cell_type": "code",
   "execution_count": 4,
   "metadata": {
    "pycharm": {
     "is_executing": false,
     "name": "#%%\n"
    }
   },
   "outputs": [
    {
     "name": "stdout",
     "output_type": "stream",
     "text": [
      "             _EventId _InvestigationType _AccidentNumber  _EventDate  \\\n",
      "84083  20041105X01764           Accident      CHI79FA064  08/02/1979   \n",
      "84084  20001218X45448           Accident      LAX96LA321  06/19/1977   \n",
      "84085  20061025X01555           Accident      NYC07LA005  08/30/1974   \n",
      "84086  20001218X45447           Accident      LAX94LA336  07/19/1962   \n",
      "84087  20001218X45444           Accident      SEA87LA080  10/24/1948   \n",
      "\n",
      "             _Location       _Country  _Latitude  _Longitude _AirportCode  \\\n",
      "84083       Canton, OH  United States        NaN         NaN          NaN   \n",
      "84084       EUREKA, CA  United States        NaN         NaN          NaN   \n",
      "84085    Saltville, VA  United States  36.922223  -81.878056          NaN   \n",
      "84086   BRIDGEPORT, CA  United States        NaN         NaN          NaN   \n",
      "84087  MOOSE CREEK, ID  United States        NaN         NaN          NaN   \n",
      "\n",
      "      _AirportName  ... _PurposeOfFlight _AirCarrier _TotalFatalInjuries  \\\n",
      "84083          NaN  ...         Personal         NaN                 1.0   \n",
      "84084          NaN  ...         Personal         NaN                 2.0   \n",
      "84085          NaN  ...         Personal         NaN                 3.0   \n",
      "84086          NaN  ...         Personal         NaN                 4.0   \n",
      "84087          NaN  ...         Personal         NaN                 2.0   \n",
      "\n",
      "      _TotalSeriousInjuries _TotalMinorInjuries _TotalUninjured  \\\n",
      "84083                   2.0                 NaN             NaN   \n",
      "84084                   0.0                 0.0             0.0   \n",
      "84085                   NaN                 NaN             NaN   \n",
      "84086                   0.0                 0.0             0.0   \n",
      "84087                   0.0                 0.0             0.0   \n",
      "\n",
      "      _WeatherCondition  _BroadPhaseOfFlight   _ReportStatus _PublicationDate  \n",
      "84083               VMC             APPROACH  Probable Cause       04/16/1980  \n",
      "84084               IMC               CRUISE  Probable Cause       09/12/2000  \n",
      "84085               IMC               CRUISE  Probable Cause       02/26/2007  \n",
      "84086               UNK              UNKNOWN  Probable Cause       09/19/1996  \n",
      "84087               UNK               CRUISE  Probable Cause              NaN  \n",
      "\n",
      "[5 rows x 31 columns]\n"
     ]
    }
   ],
   "source": [
    "print(df.tail(5))"
   ]
  },
  {
   "cell_type": "markdown",
   "metadata": {
    "pycharm": {
     "name": "#%% md\n"
    }
   },
   "source": [
    "### 3. Data preprocess\n",
    "<br> Check number of NaNs (Null, No Value, etc.)"
   ]
  },
  {
   "cell_type": "code",
   "execution_count": 5,
   "metadata": {
    "pycharm": {
     "is_executing": false,
     "name": "#%% \n"
    }
   },
   "outputs": [
    {
     "name": "stdout",
     "output_type": "stream",
     "text": [
      "_EventId                     0\n",
      "_InvestigationType           4\n",
      "_AccidentNumber              0\n",
      "_EventDate                   0\n",
      "_Location                   76\n",
      "_Country                   507\n",
      "_Latitude                54039\n",
      "_Longitude               54048\n",
      "_AirportCode             36439\n",
      "_AirportName             33735\n",
      "_InjurySeverity              0\n",
      "_AircraftDamage           2676\n",
      "_AircraftCategory        56751\n",
      "_RegistrationNumber       3778\n",
      "_Make                       70\n",
      "_Model                      99\n",
      "_AmateurBuilt              592\n",
      "_NumberOfEngines          4970\n",
      "_EngineType               4280\n",
      "_FARDescription          57056\n",
      "_Schedule                72269\n",
      "_PurposeOfFlight          4791\n",
      "_AirCarrier              79927\n",
      "_TotalFatalInjuries      27068\n",
      "_TotalSeriousInjuries    29726\n",
      "_TotalMinorInjuries      28523\n",
      "_TotalUninjured          14507\n",
      "_WeatherCondition         3060\n",
      "_BroadPhaseOfFlight       6691\n",
      "_ReportStatus                0\n",
      "_PublicationDate         14236\n",
      "dtype: int64\n"
     ]
    }
   ],
   "source": [
    "# check number of NaNs\n",
    "print(df.isnull().sum())"
   ]
  },
  {
   "cell_type": "markdown",
   "metadata": {
    "pycharm": {
     "name": "#%% md\n"
    }
   },
   "source": [
    "### Data fields description and analysis.\n",
    "Field - Number of NaNs - Field description\n",
    "<br>_EventId - 0 - Event identifier, each event should have an id. Field is not useful for further analisys as it is unique.\n",
    "<br>_InvestigationType - 4 - Type of investigation (Accident, Incident). Some events have no type. NULL value could be replaced with Unknown.\n",
    "<br>_AccidentNumber - 0 - Number (identification) of an event in some recording systems. Field is not useful for further analisys as it is unique.\n",
    "<br>_EventDate - 0 - Date of an event. Cannot be NULL.\n",
    "<br>_Location - 76 - Location of an event (city, state in case of the US or other identifiable location if outside of the US). Some locations are NULL. There are other variables for locations data.\n",
    "<br>_Country - 507 - some locations do not have county filled. It could have NULL values when an event happened outside of any country (i.e. under an ocean or a sea)\n",
    "<br>_Latitude - 54039\n",
    "<br>_Longitude - 54048\n",
    "<br> _Latitude and _Longitude are geographical coordinates of an event. It should not be empty, but there are other location variables that could subsitute them. If we really need them we need to work with other variables to get exact coordinates of an event\n",
    "<br>_AirportCode - 36439 - each airport has a code (3 or 4 letters). An event could happen outside of airport, so it could have NULL values. This variable could be used to define geographic location of an event.\n",
    "<br>_AirportName - 33735 - Each airport has a human readable name. In case an event of outside of any airport this field would have NULL value.\n",
    "<br> I would ignore Location variables. An event could happen at any location. But for general statistics these values could be useful to find which locations have more incidents.\n",
    "<br>_InjurySeverity - 0 - Each event has assigned severity. Cannot be NULL\n",
    "<br>_AircraftDamage - 2676 - Describes damage to an aircraft. NULL value indicates no damage, NULL should be replaced with \"NODAMAGE\"\n",
    "<br>_AircraftCategory - 56751 - Describes category of an aircraft like airplane, baloon, etc. NULL value indicates that category was not defined or not recorded. Missing value could be determined by _Make and _Model variables.\n",
    "<br>_RegistrationNumber - 3778 - Categoriacal value (non-numeric). NULL value indicates that aircraft was not registered. For analysis I would remove this column. Replacing NULL with something like \"NOT REGISTERED\" would affect results of analysis: lot of events would be falsely attributed to it.\n",
    "<br>_Make - 70 - Each aircraft should have a producer like Boeing, Airbus, Cessna, etc. But some are made by people and do not have registered Maker.\n",
    "<br>_Model - 99 - Some aircrafts do not have models because they were built by private persons.\n",
    "<br>_AmateurBuilt - 592 - indicates if aircraft is built by amateur builder. NULL value indicates that data was not recorded for this variable, NULL could be replaced with \"NO\"\n",
    "<br>_NumberOfEngines - 4970 - Some aircrafts has no engines (like baloon or glider). But sometimes aircraft definetely have 1 or more engines but information was not collected.\n",
    "<br>_EngineType - 4280 - Describes engine types. NULL indicates either there is no an engine, or data is missing.\n",
    "<br>_FARDescription - 57056 - Describes if an aircraft performed a specific function (i.e. Armed Forces or General Aviation, etc.). NULL indicates no data is recoded, it should be changed to Unknown.\n",
    "<br>_Schedule - 72269 - Indicates if a flight was scheduled (like AA20 from DFW to London Heathrow), unscheduled (i.e. for Armed Forces interception) or unknown. NULL values should be replaced with \"NO\"\n",
    "<br>_PurposeOfFlight - 4791 - Describes the purpose of flight. NULL values should be replaced by \"Unknown\"\n",
    "<br>_AirCarrier - 79927 - Names aircarrier. Most of events have no aircarrier, because event happened with personal aircrafts that do not perform regular passengers transfers. I would ignore this column.\n",
    "<br>_TotalFatalInjuries - 27068 - Describes number of total fatal injuries. NULL values should be replaced with \"0\"\n",
    "<br>_TotalSeriousInjuries - 29726 - Describes number of total serious injuries. NULL values should be replaced with \"0\"\n",
    "<br>_TotalMinorInjuries - 28523 - Describes number of total minor injuries. NULL values should be replaced with \"0\"\n",
    "<br>_TotalUninjured - 14507 - Describes number of total uninjured. NULL values show that there are no data. Normally it should show total people on board minus all injures combined. But there is no variable for total passengers, so we cannot calculate this value. I would ignore it.\n",
    "<br>_WeatherCondition - 3060 - This variable describes weather conditions. NULL values indicate that there is no data on file, or weather had nothing to do with an event. \n",
    "<br>_BroadPhaseOfFlight - 6691 - Describes phase of flight when an event happened. NULL values should have \"UNKNOWN\"\n",
    "<br>_ReportStatus - 0 - Describes status of a report. Cannot have NULL values.\n",
    "<br>_PublicationDate - 14236 - Date of a report publication. NULL value shows that report is not published (could be \"Secret\" or not ready for publication)"
   ]
  },
  {
   "cell_type": "code",
   "execution_count": 22,
   "metadata": {
    "pycharm": {
     "name": "#%%"
    }
   },
   "outputs": [
    {
     "name": "stdout",
     "output_type": "stream",
     "text": [
      "\n",
      "Top 10 rows\n",
      "  _InvestigationType  _EventDate _InjurySeverity _AircraftDamage  \\\n",
      "0           Accident  11/17/2019     Unavailable     Substantial   \n",
      "1           Accident  11/15/2019     Unavailable     Substantial   \n",
      "2           Accident  11/12/2019     Unavailable             NaN   \n",
      "3           Accident  11/11/2019     Unavailable     Substantial   \n",
      "4           Accident  11/11/2019       Non-Fatal     Substantial   \n",
      "\n",
      "                       _Make _Model _AmateurBuilt            _FARDescription  \\\n",
      "0                    Stinson    SR9            No  Part 91: General Aviation   \n",
      "1                     Cessna    525            No  Part 91: General Aviation   \n",
      "2                     Cessna    172            No  Part 91: General Aviation   \n",
      "3  SYMPHONY AIRCRAFT IND INC     SA            No  Part 91: General Aviation   \n",
      "4                     Cessna    195            No  Part 91: General Aviation   \n",
      "\n",
      "  _Schedule _PurposeOfFlight  _TotalFatalInjuries  _TotalSeriousInjuries  \\\n",
      "0       NaN         Personal                  NaN                    NaN   \n",
      "1       NaN         Personal                  NaN                    NaN   \n",
      "2       NaN    Instructional                  NaN                    NaN   \n",
      "3       NaN         Personal                  NaN                    NaN   \n",
      "4       NaN         Personal                  NaN                    NaN   \n",
      "\n",
      "   _TotalMinorInjuries _BroadPhaseOfFlight  \n",
      "0                  NaN                 NaN  \n",
      "1                  NaN                 NaN  \n",
      "2                  NaN                 NaN  \n",
      "3                  NaN                 NaN  \n",
      "4                  NaN                 NaN  \n"
     ]
    }
   ],
   "source": [
    "df2 = df[[\"_InvestigationType\", \"_EventDate\", \"_InjurySeverity\", \"_AircraftDamage\", \"_Make\", \"_Model\", \"_AmateurBuilt\",\n",
    "          \"_FARDescription\", \"_Schedule\", \"_PurposeOfFlight\", \"_TotalFatalInjuries\", \"_TotalSeriousInjuries\", \n",
    "          \"_TotalMinorInjuries\", \"_BroadPhaseOfFlight\"]]\n",
    "print(\"\\nTop 10 rows\")\n",
    "print(df2.head(5))"
   ]
  },
  {
   "cell_type": "code",
   "execution_count": 7,
   "metadata": {},
   "outputs": [],
   "source": [
    "df2[['_TotalSeriousInjuries', '_TotalMinorInjuries', '_TotalFatalInjuries']]=df2[['_TotalSeriousInjuries', '_TotalMinorInjuries', '_TotalFatalInjuries']].replace(np.NaN,0)"
   ]
  },
  {
   "cell_type": "code",
   "execution_count": 8,
   "metadata": {},
   "outputs": [],
   "source": [
    "df2[['_InvestigationType']]=df2[['_InvestigationType']].replace(np.NaN,\"Unknown\")"
   ]
  },
  {
   "cell_type": "code",
   "execution_count": 9,
   "metadata": {},
   "outputs": [],
   "source": [
    "df2[['_AircraftDamage']]=df2[['_AircraftDamage']].replace(np.NaN,\"No damage\")"
   ]
  },
  {
   "cell_type": "code",
   "execution_count": 10,
   "metadata": {},
   "outputs": [],
   "source": [
    "df2[['_Make']]=df2[['_Make']].replace(np.NaN,\"No make\")"
   ]
  },
  {
   "cell_type": "code",
   "execution_count": 11,
   "metadata": {},
   "outputs": [],
   "source": [
    "df2[['_Model']]=df2[['_Model']].replace(np.NaN,\"No model\")"
   ]
  },
  {
   "cell_type": "code",
   "execution_count": 12,
   "metadata": {},
   "outputs": [],
   "source": [
    "df2[['_AmateurBuilt']]=df2[['_AmateurBuilt']].replace(np.NaN,\"No\")"
   ]
  },
  {
   "cell_type": "code",
   "execution_count": 13,
   "metadata": {},
   "outputs": [],
   "source": [
    "df2[['_FARDescription']]=df2[['_FARDescription']].replace(np.NaN,\"No\")"
   ]
  },
  {
   "cell_type": "code",
   "execution_count": 14,
   "metadata": {},
   "outputs": [],
   "source": [
    "df2[['_Schedule']]=df2[['_Schedule']].replace(np.NaN,\"NO\")"
   ]
  },
  {
   "cell_type": "code",
   "execution_count": 15,
   "metadata": {},
   "outputs": [],
   "source": [
    "df2[['_PurposeOfFlight']]=df2[['_PurposeOfFlight']].replace(np.NaN,\"Unknown\")"
   ]
  },
  {
   "cell_type": "code",
   "execution_count": 16,
   "metadata": {},
   "outputs": [],
   "source": [
    "df2[['_BroadPhaseOfFlight']]=df2[['_BroadPhaseOfFlight']].replace(np.NaN,\"UNKNOWN\")"
   ]
  },
  {
   "cell_type": "code",
   "execution_count": 17,
   "metadata": {
    "scrolled": true
   },
   "outputs": [
    {
     "name": "stdout",
     "output_type": "stream",
     "text": [
      "_InvestigationType       0\n",
      "_EventDate               0\n",
      "_InjurySeverity          0\n",
      "_AircraftDamage          0\n",
      "_Make                    0\n",
      "_Model                   0\n",
      "_AmateurBuilt            0\n",
      "_FARDescription          0\n",
      "_Schedule                0\n",
      "_PurposeOfFlight         0\n",
      "_TotalFatalInjuries      0\n",
      "_TotalSeriousInjuries    0\n",
      "_TotalMinorInjuries      0\n",
      "_BroadPhaseOfFlight      0\n",
      "dtype: int64\n"
     ]
    }
   ],
   "source": [
    "print(df2.isnull().sum())"
   ]
  },
  {
   "cell_type": "markdown",
   "metadata": {},
   "source": [
    "After we extracted only required columns into another dataset, changed NaN to proper values, and verified that there are no NaNs, we need to check datatypes."
   ]
  },
  {
   "cell_type": "code",
   "execution_count": 18,
   "metadata": {},
   "outputs": [
    {
     "name": "stdout",
     "output_type": "stream",
     "text": [
      "_InvestigationType        object\n",
      "_EventDate                object\n",
      "_InjurySeverity           object\n",
      "_AircraftDamage           object\n",
      "_Make                     object\n",
      "_Model                    object\n",
      "_AmateurBuilt             object\n",
      "_FARDescription           object\n",
      "_Schedule                 object\n",
      "_PurposeOfFlight          object\n",
      "_TotalFatalInjuries      float64\n",
      "_TotalSeriousInjuries    float64\n",
      "_TotalMinorInjuries      float64\n",
      "_BroadPhaseOfFlight       object\n",
      "dtype: object\n"
     ]
    }
   ],
   "source": [
    "print(df2.dtypes)"
   ]
  },
  {
   "cell_type": "markdown",
   "metadata": {},
   "source": [
    "Now we could perform EDA on this dataset."
   ]
  },
  {
   "cell_type": "code",
   "execution_count": 19,
   "metadata": {},
   "outputs": [
    {
     "name": "stdout",
     "output_type": "stream",
     "text": [
      "       _TotalFatalInjuries  _TotalSeriousInjuries  _TotalMinorInjuries\n",
      "count         84088.000000           84088.000000         84088.000000\n",
      "mean              0.573673               0.214157             0.342427\n",
      "std               5.196384               1.117272             2.266509\n",
      "min               0.000000               0.000000             0.000000\n",
      "25%               0.000000               0.000000             0.000000\n",
      "50%               0.000000               0.000000             0.000000\n",
      "75%               0.000000               0.000000             0.000000\n",
      "max             349.000000             111.000000           380.000000\n"
     ]
    }
   ],
   "source": [
    "print(df2.describe())"
   ]
  },
  {
   "cell_type": "markdown",
   "metadata": {},
   "source": [
    "### Graphs"
   ]
  },
  {
   "cell_type": "code",
   "execution_count": 20,
   "metadata": {},
   "outputs": [
    {
     "data": {
      "image/png": "[encoded data removed]",
      "text/plain": [
       "<Figure size 864x576 with 4 Axes>"
      ]
     },
     "metadata": {
      "needs_background": "light"
     },
     "output_type": "display_data"
    }
   ],
   "source": [
    "df2.hist(figsize=(12, 8))\n",
    "pyplot.show()"
   ]
  },
  {
   "cell_type": "code",
   "execution_count": 21,
   "metadata": {},
   "outputs": [
    {
     "name": "stderr",
     "output_type": "stream",
     "text": [
      "No handles with labels found to put in legend.\n",
      "No handles with labels found to put in legend.\n",
      "No handles with labels found to put in legend.\n"
     ]
    },
    {
     "data": {
      "image/png": "[encoded data removed]",
      "text/plain": [
       "<Figure size 1440x1440 with 6 Axes>"
      ]
     },
     "metadata": {
      "needs_background": "light"
     },
     "output_type": "display_data"
    }
   ],
   "source": [
    "df2.plot(kind='density', subplots=True, layout=(2,3), sharex=False, legend=True, fontsize=1, figsize=(20,20))\n",
    "pyplot.show()"
   ]
  },
  {
   "cell_type": "code",
   "execution_count": null,
   "metadata": {},
   "outputs": [],
   "source": []
  }
 ],
 "metadata": {
  "kernelspec": {
   "display_name": "Python 3",
   "language": "python",
   "name": "python3"
  },
  "language_info": {
   "codemirror_mode": {
    "name": "ipython",
    "version": 3
   },
   "file_extension": ".py",
   "mimetype": "text/x-python",
   "name": "python",
   "nbconvert_exporter": "python",
   "pygments_lexer": "ipython3",
   "version": "3.5.2"
  },
  "pycharm": {
   "stem_cell": {
    "cell_type": "raw",
    "metadata": {
     "collapsed": false
    },
    "source": []
   }
  }
 },
 "nbformat": 4,
 "nbformat_minor": 1
}
