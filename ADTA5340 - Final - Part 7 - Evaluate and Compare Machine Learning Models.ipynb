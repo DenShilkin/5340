{
 "cells": [
  {
   "cell_type": "markdown",
   "source": [
    "# ATDA 5340 - Final - Part 7 - Evaluate and Compare models - Denis Shilkin\n",
    "Dataset - adult_salary.csv. I removed leading \"space\" symbol from cells with Excel"
   ],
   "metadata": {
    "collapsed": false
   }
  },
  {
   "cell_type": "code",
   "execution_count": null,
   "outputs": [],
   "source": [
    "# import libraries \n",
    "import pandas as pd\n",
    "import numpy as np\n",
    "\n",
    "from pandas import Series\n",
    "\n",
    "from pandas.plotting import scatter_matrix\n",
    "from matplotlib import pyplot\n",
    "from sklearn.metrics import classification_report\n",
    "\n",
    "from sklearn.cluster import KMeans\n",
    "from sklearn.tree import DecisionTreeClassifier\n",
    "\n",
    "from sklearn.model_selection import train_test_split\n",
    "from sklearn.model_selection import KFold\n",
    "from sklearn.model_selection import cross_val_score\n",
    "\n",
    "# supress warnings\n",
    "import warnings\n",
    "warnings.filterwarnings(\"ignore\")\n",
    "\n",
    "print(\"Diagnostic: Libraries loaded\")"
   ],
   "metadata": {
    "collapsed": false,
    "pycharm": {
     "name": "#%%\n"
    }
   }
  },
  {
   "cell_type": "code",
   "execution_count": null,
   "outputs": [],
   "source": [
    "#load dataset\n",
    "filename = \"adult_salary.csv\"\n",
    "df = pd.read_csv(filename, index_col=False)\n",
    "\n",
    "#print shape (rows/records, columns/variables)\n",
    "print(df.shape)"
   ],
   "metadata": {
    "collapsed": false,
    "pycharm": {
     "name": "#%%\n"
    }
   }
  },
  {
   "cell_type": "code",
   "execution_count": null,
   "outputs": [],
   "source": [
    "#print top 5 rows for initial data set\n",
    "print(df.head(5))"
   ],
   "metadata": {
    "collapsed": false,
    "pycharm": {
     "name": "#%%\n"
    }
   }
  },
  {
   "cell_type": "code",
   "execution_count": null,
   "outputs": [],
   "source": [
    "#remove column Fnlwgt and check shape (to verify column is removed)\n",
    "df2 = df[[\"Age\",\"Emp_type\",\"Education\",\"Education_num\",\"Marital\",\"Occupation\",\"Relationship\",\n",
    "       \"Race\",\"Sex\",\"Capital_gain\",\"Capital_loss\",\"weekly_hours\",\"Country\",\"Income\"]]\n",
    "print(df2.shape)"
   ],
   "metadata": {
    "collapsed": false,
    "pycharm": {
     "name": "#%%\n"
    }
   }
  },
  {
   "cell_type": "code",
   "execution_count": null,
   "outputs": [],
   "source": [
    "#print top 5 rows for reduced dataset\n",
    "print(df2.head(5))"
   ],
   "metadata": {
    "collapsed": false,
    "pycharm": {
     "name": "#%%\n"
    }
   }
  },
  {
   "cell_type": "code",
   "execution_count": null,
   "outputs": [],
   "source": [
    "# check NaNs\n",
    "print(df2.isnull().sum())"
   ],
   "metadata": {
    "collapsed": false,
    "pycharm": {
     "name": "#%%\n"
    }
   }
  },
  {
   "cell_type": "code",
   "execution_count": null,
   "outputs": [],
   "source": [
    "# need to recode Income\n",
    "print(df2.groupby('Income').size())"
   ],
   "metadata": {
    "collapsed": false,
    "pycharm": {
     "name": "#%%\n"
    }
   }
  },
  {
   "cell_type": "code",
   "execution_count": null,
   "outputs": [],
   "source": [
    "# recoding\n",
    "df2[['Income']]=df2[['Income']].replace(\"<=50K.\",0)\n",
    "df2[['Income']]=df2[['Income']].replace(\">50K.\",1)\n",
    "df2[['Income']]=df2[['Income']].replace(\"<=50K\",0)\n",
    "df2[['Income']]=df2[['Income']].replace(\">50K\",1)\n",
    "\n",
    "# print Income split: 0 - less than $50k, 1 - more than $50k\n",
    "print(df2.groupby('Income').size())"
   ],
   "metadata": {
    "collapsed": false,
    "pycharm": {
     "name": "#%%\n"
    }
   }
  },
  {
   "cell_type": "code",
   "execution_count": null,
   "outputs": [],
   "source": [
    "#verify types\n",
    "print(df2.dtypes)"
   ],
   "metadata": {
    "collapsed": false,
    "pycharm": {
     "name": "#%%\n"
    }
   }
  },
  {
   "cell_type": "code",
   "execution_count": null,
   "outputs": [],
   "source": [
    "# convert strings to numeric values\n",
    "Sex = Series([0,1],index=['Male','Female'])    \n",
    "df2['Sex']=df2.Sex.map(Sex)\n",
    "\n",
    "df2.Emp_type = pd.Categorical(df2.Emp_type)\n",
    "df2['Emp_type'] = df2.Emp_type.cat.codes\n",
    "\n",
    "df2.Education = pd.Categorical(df2.Education)\n",
    "df2['Education'] = df2.Education.cat.codes\n",
    "\n",
    "df2.Marital = pd.Categorical(df2.Marital)\n",
    "df2['Marital'] = df2.Marital.cat.codes\n",
    "\n",
    "df2.Occupation = pd.Categorical(df2.Occupation)\n",
    "df2['Occupation'] = df2.Occupation.cat.codes\n",
    "\n",
    "df2.Relationship = pd.Categorical(df2.Relationship)\n",
    "df2['Relationship'] = df2.Relationship.cat.codes\n",
    "\n",
    "df2.Race = pd.Categorical(df2.Race)\n",
    "df2['Race'] = df2.Race.cat.codes\n",
    "\n",
    "df2.Country = pd.Categorical(df2.Country)\n",
    "df2['Country'] = df2.Country.cat.codes\n",
    "\n",
    "#check type after encoding Categorical values \n",
    "print(df2.dtypes)"
   ],
   "metadata": {
    "collapsed": false,
    "pycharm": {
     "name": "#%%\n"
    }
   }
  },
  {
   "cell_type": "code",
   "execution_count": null,
   "outputs": [],
   "source": [
    "# describe dataset\n",
    "print(df2.describe())"
   ],
   "metadata": {
    "collapsed": false,
    "pycharm": {
     "name": "#%%\n"
    }
   }
  },
  {
   "cell_type": "code",
   "execution_count": null,
   "outputs": [],
   "source": [
    "#split array into train and test \n",
    "array = df2.values\n",
    "\n",
    "X = array [:,0:13]\n",
    "Y = array [:,13]\n",
    "\n",
    "test_size = 0.33\n",
    "seed = 7\n",
    "\n",
    "X_train, X_test, Y_train, Y_test = train_test_split(X, Y, random_state=seed)\n",
    "\n",
    "print(\"Diagnostic: dataset split into train and test arrays\")"
   ],
   "metadata": {
    "collapsed": false,
    "pycharm": {
     "name": "#%%\n"
    }
   }
  },
  {
   "cell_type": "code",
   "execution_count": null,
   "outputs": [],
   "source": [
    "# Supervised ML\n",
    "model1 = DecisionTreeClassifier()\n",
    "model1.fit(X_train, Y_train)"
   ],
   "metadata": {
    "collapsed": false,
    "pycharm": {
     "name": "#%%\n"
    }
   }
  },
  {
   "cell_type": "code",
   "execution_count": null,
   "outputs": [],
   "source": [
    "# check prediction\n",
    "predict = model1.predict(X_test)\n",
    "report = classification_report(Y_test, predict)\n",
    "print(report)"
   ],
   "metadata": {
    "collapsed": false,
    "pycharm": {
     "name": "#%%\n"
    }
   }
  },
  {
   "cell_type": "code",
   "execution_count": null,
   "outputs": [],
   "source": [
    "# accuracy level\n",
    "score = model1.score(X_test, Y_test)\n",
    "print((\"%.3f%%\") % (score*100.0))"
   ],
   "metadata": {
    "collapsed": false,
    "pycharm": {
     "name": "#%%\n"
    }
   }
  },
  {
   "cell_type": "code",
   "execution_count": null,
   "outputs": [],
   "source": [
    "#Evaluate\n",
    "num_folds = 10\n",
    "seed = 7\n",
    "\n",
    "kfold = KFold(n_splits=num_folds, random_state=seed)\n",
    "results = cross_val_score(model1, X, Y, cv=kfold, scoring='accuracy')\n",
    "\n",
    "print(\"%.3f (%.3f)\" % (results.mean(), results.std()))"
   ],
   "metadata": {
    "collapsed": false,
    "pycharm": {
     "name": "#%%\n"
    }
   }
  },
  {
   "cell_type": "code",
   "execution_count": null,
   "outputs": [],
   "source": [
    "#unsupervised ML\n",
    "model2 = KMeans(n_clusters=2)\n",
    "model2.fit(X)"
   ],
   "metadata": {
    "collapsed": false,
    "pycharm": {
     "name": "#%%\n"
    }
   }
  },
  {
   "cell_type": "code",
   "execution_count": null,
   "outputs": [],
   "source": [
    "#centers of the clusters\n",
    "centroids = model2.cluster_centers_\n",
    "print(centroids)"
   ],
   "metadata": {
    "collapsed": false,
    "pycharm": {
     "name": "#%%\n"
    }
   }
  },
  {
   "cell_type": "code",
   "execution_count": null,
   "outputs": [],
   "source": [
    "cluster_labels = model2.labels_[::10]\n",
    "print(cluster_labels)"
   ],
   "metadata": {
    "collapsed": false,
    "pycharm": {
     "name": "#%%\n"
    }
   }
  },
  {
   "cell_type": "code",
   "execution_count": null,
   "outputs": [],
   "source": [
    "cluster_labels = model2.labels_\n",
    "print(cluster_labels)"
   ],
   "metadata": {
    "collapsed": false,
    "pycharm": {
     "name": "#%%\n"
    }
   }
  },
  {
   "cell_type": "code",
   "execution_count": null,
   "outputs": [],
   "source": [
    "pyplot.scatter(X[:,0], X[:,1], c=model2.labels_, cmap='rainbow')\n",
    "\n",
    "lines= pyplot.plot(centroids[0,0], centroids[0,1],'kx', color='black')\n",
    "pyplot.setp(lines, ms=15.0)\n",
    "pyplot.setp(lines, mew=2.0)\n",
    "\n",
    "lines= pyplot.plot(centroids[1,0], centroids[1,1],'kx', color='black')\n",
    "pyplot.setp(lines, ms=15.0)\n",
    "pyplot.setp(lines, mew=2.0)\n",
    "\n",
    "pyplot.show()"
   ],
   "metadata": {
    "collapsed": false,
    "pycharm": {
     "name": "#%%\n"
    }
   }
  },
  {
   "cell_type": "code",
   "execution_count": null,
   "outputs": [],
   "source": [
    "#prediction: set 1\n",
    "model1.predict([[39,1,0,0,1,1,1,0,0,10000,500,60,0]])"
   ],
   "metadata": {
    "collapsed": false,
    "pycharm": {
     "name": "#%%\n"
    }
   }
  },
  {
   "cell_type": "code",
   "execution_count": null,
   "outputs": [],
   "source": [
    "model2.predict([[39,1,0,0,1,1,1,0,0,10000,500,60,0]])"
   ],
   "metadata": {
    "collapsed": false,
    "pycharm": {
     "name": "#%%\n"
    }
   }
  },
  {
   "cell_type": "code",
   "execution_count": null,
   "outputs": [],
   "source": [
    "#prediction: set 2\n",
    "model1.predict([[40,1,0,0,1,1,1,0,0,1000,50,80,0]])"
   ],
   "metadata": {
    "collapsed": false,
    "pycharm": {
     "name": "#%%\n"
    }
   }
  },
  {
   "cell_type": "code",
   "execution_count": null,
   "outputs": [],
   "source": [
    "model2.predict([[40,1,0,0,1,1,1,0,0,1000,50,80,0]])"
   ],
   "metadata": {
    "collapsed": false,
    "pycharm": {
     "name": "#%%\n"
    }
   }
  }
 ],
 "metadata": {
  "kernelspec": {
   "display_name": "Python 3",
   "language": "python",
   "name": "python3"
  },
  "language_info": {
   "codemirror_mode": {
    "name": "ipython",
    "version": 3
   },
   "file_extension": ".py",
   "mimetype": "text/x-python",
   "name": "python",
   "nbconvert_exporter": "python",
   "pygments_lexer": "ipython3",
   "version": "3.5.2"
  },
  "pycharm": {
   "stem_cell": {
    "cell_type": "raw",
    "source": [],
    "metadata": {
     "collapsed": false
    }
   }
  }
 },
 "nbformat": 4,
 "nbformat_minor": 1
}