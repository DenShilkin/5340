{
 "cells": [
  {
   "cell_type": "markdown",
   "metadata": {
    "collapsed": true,
    "pycharm": {
     "name": "#%% md\n"
    }
   },
   "source": [
    "# ATDA 5340 - Final - Part  - ML Supervised - Denis Shilkin\n",
    "car_evaluation.csv\n",
    "<br> K-Means"
   ]
  },
  {
   "cell_type": "code",
   "execution_count": 153,
   "outputs": [
    {
     "name": "stdout",
     "text": [
      "Diagnostic: libraries loaded\n"
     ],
     "output_type": "stream"
    }
   ],
   "source": [
    "# import libraries \n",
    "import pandas as pd\n",
    "import numpy as np\n",
    "from pandas import Series\n",
    "\n",
    "from pandas.plotting import scatter_matrix\n",
    "from matplotlib import pyplot\n",
    "from sklearn.metrics import classification_report\n",
    "\n",
    "from sklearn.cluster import KMeans\n",
    "\n",
    "from sklearn.model_selection import train_test_split\n",
    "from sklearn.model_selection import KFold\n",
    "from sklearn.model_selection import cross_val_score\n",
    "\n",
    "# supress warnings\n",
    "import warnings\n",
    "warnings.filterwarnings(\"ignore\")\n",
    "\n",
    "print(\"Diagnostic: libraries loaded\")"
   ],
   "metadata": {
    "collapsed": false,
    "pycharm": {
     "name": "#%%\n",
     "is_executing": false
    }
   }
  },
  {
   "cell_type": "code",
   "execution_count": 154,
   "outputs": [
    {
     "name": "stdout",
     "text": [
      "(1728, 7)\n"
     ],
     "output_type": "stream"
    }
   ],
   "source": [
    "#load dataset\n",
    "filename = \"car_evaluation.csv\"\n",
    "df = pd.read_csv(filename, index_col=False, names=['Price','Maintenance','Doors','Passengers','Luggage','Safety','Evaluation'])\n",
    "\n",
    "print(df.shape)"
   ],
   "metadata": {
    "collapsed": false,
    "pycharm": {
     "name": "#%%\n",
     "is_executing": false
    }
   }
  },
  {
   "cell_type": "code",
   "execution_count": 155,
   "outputs": [
    {
     "name": "stdout",
     "text": [
      "   Price Maintenance Doors Passengers Luggage Safety Evaluation\n",
      "0  vhigh       vhigh     2          2   small    low      unacc\n",
      "1  vhigh       vhigh     2          2   small    med      unacc\n",
      "2  vhigh       vhigh     2          2   small   high      unacc\n",
      "3  vhigh       vhigh     2          2     med    low      unacc\n",
      "4  vhigh       vhigh     2          2     med    med      unacc\n"
     ],
     "output_type": "stream"
    }
   ],
   "source": [
    "#check and clean\n",
    "print(df.head(5))"
   ],
   "metadata": {
    "collapsed": false,
    "pycharm": {
     "name": "#%%\n",
     "is_executing": false
    }
   }
  },
  {
   "cell_type": "code",
   "execution_count": 156,
   "outputs": [
    {
     "name": "stdout",
     "text": [
      "Price          object\n",
      "Maintenance    object\n",
      "Doors          object\n",
      "Passengers     object\n",
      "Luggage        object\n",
      "Safety         object\n",
      "Evaluation     object\n",
      "dtype: object\n"
     ],
     "output_type": "stream"
    }
   ],
   "source": [
    "print(df.dtypes)"
   ],
   "metadata": {
    "collapsed": false,
    "pycharm": {
     "name": "#%%\n",
     "is_executing": false
    }
   }
  },
  {
   "cell_type": "code",
   "execution_count": 157,
   "outputs": [],
   "source": [
    "# Need to replace non-numeric values into numeric\n",
    "df[['Doors']]=df[['Doors']].replace(\"5more\",5)\n",
    "df[['Passengers']]=df[['Passengers']].replace(\"more\",5)\n",
    "\n",
    "df[\"Doors\"] = pd.to_numeric(df[\"Doors\"])\n",
    "df[\"Passengers\"] = pd.to_numeric(df[\"Passengers\"])"
   ],
   "metadata": {
    "collapsed": false,
    "pycharm": {
     "name": "#%%\n",
     "is_executing": false
    }
   }
  },
  {
   "cell_type": "code",
   "execution_count": 158,
   "outputs": [
    {
     "name": "stdout",
     "text": [
      "   Price  Maintenance  Doors  Passengers  Luggage  Safety Evaluation\n",
      "0      3            3      2           2        0       0      unacc\n",
      "1      3            3      2           2        0       1      unacc\n",
      "2      3            3      2           2        0       2      unacc\n",
      "3      3            3      2           2        1       0      unacc\n",
      "4      3            3      2           2        1       1      unacc\n",
      "Price           int64\n",
      "Maintenance     int64\n",
      "Doors           int64\n",
      "Passengers      int64\n",
      "Luggage         int64\n",
      "Safety          int64\n",
      "Evaluation     object\n",
      "dtype: object\n"
     ],
     "output_type": "stream"
    }
   ],
   "source": [
    "#changing non numeric values into numerinc\n",
    "Price = Series([0,1,2,3],index=['low','med','high','vhigh'])    \n",
    "df['Price']=df.Price.map(Price)\n",
    "\n",
    "Maintenance = Series([0,1,2,3],index=['low','med','high','vhigh'])    \n",
    "df['Maintenance']=df.Maintenance.map(Maintenance)\n",
    "\n",
    "Luggage = Series([0,1,2],index=['small','med','big'])    \n",
    "df['Luggage']=df.Luggage.map(Luggage)\n",
    "\n",
    "Safety = Series([0,1,2],index=['low','med','high'])    \n",
    "df['Safety']=df.Safety.map(Safety)\n",
    "\n",
    "print(df.head(5))\n",
    "print(df.dtypes)"
   ],
   "metadata": {
    "collapsed": false,
    "pycharm": {
     "name": "#%%\n",
     "is_executing": false
    }
   }
  },
  {
   "cell_type": "code",
   "execution_count": 163,
   "outputs": [
    {
     "name": "stdout",
     "text": [
      "             Price  Maintenance        Doors   Passengers      Luggage  \\\n",
      "count  1728.000000  1728.000000  1728.000000  1728.000000  1728.000000   \n",
      "mean      1.500000     1.500000     3.500000     3.666667     1.000000   \n",
      "std       1.118358     1.118358     1.118358     1.247580     0.816733   \n",
      "min       0.000000     0.000000     2.000000     2.000000     0.000000   \n",
      "25%       0.750000     0.750000     2.750000     2.000000     0.000000   \n",
      "50%       1.500000     1.500000     3.500000     4.000000     1.000000   \n",
      "75%       2.250000     2.250000     4.250000     5.000000     2.000000   \n",
      "max       3.000000     3.000000     5.000000     5.000000     2.000000   \n",
      "\n",
      "            Safety  \n",
      "count  1728.000000  \n",
      "mean      1.000000  \n",
      "std       0.816733  \n",
      "min       0.000000  \n",
      "25%       0.000000  \n",
      "50%       1.000000  \n",
      "75%       2.000000  \n",
      "max       2.000000  \n"
     ],
     "output_type": "stream"
    }
   ],
   "source": [
    "#EDA\n",
    "print(df.describe())"
   ],
   "metadata": {
    "collapsed": false,
    "pycharm": {
     "name": "#%%\n",
     "is_executing": false
    }
   }
  },
  {
   "cell_type": "code",
   "execution_count": 164,
   "outputs": [
    {
     "data": {
      "text/plain": "<Figure size 864x576 with 6 Axes>",
      "image/png": "[encoded data removed]"
     },
     "metadata": {
      "needs_background": "light"
     },
     "output_type": "display_data"
    }
   ],
   "source": [
    "df.hist(figsize=(12, 8))\n",
    "pyplot.show()"
   ],
   "metadata": {
    "collapsed": false,
    "pycharm": {
     "name": "#%%\n",
     "is_executing": false
    }
   }
  },
  {
   "cell_type": "code",
   "execution_count": null,
   "outputs": [],
   "source": [
    "array = df.values\n",
    "\n",
    "X = array [:,0:6]\n",
    "Y = array [:,6]\n",
    "\n",
    "model = KMeans(n_clusters=10)\n",
    "model.fit(X)"
   ],
   "metadata": {
    "collapsed": false,
    "pycharm": {
     "name": "#%%\n"
    }
   }
  },
  {
   "cell_type": "code",
   "execution_count": 160,
   "outputs": [
    {
     "name": "stdout",
     "text": [
      "[[0.44444444 2.55555556 4.33333333 4.5        1.         1.        ]\n",
      " [0.63636364 0.36363636 4.27272727 4.5        1.         1.        ]\n",
      " [2.2        2.6        2.5        4.5        1.         1.        ]\n",
      " [2.6        1.46666667 2.53333333 2.         1.         1.        ]\n",
      " [2.5        2.2        4.6        4.5        1.         1.        ]\n",
      " [0.45454545 1.36363636 2.36363636 4.5        1.         1.        ]\n",
      " [1.625      2.5625     4.4375     2.         1.         1.        ]\n",
      " [1.5        0.375      4.375      2.         1.         1.        ]\n",
      " [2.53846154 0.46153846 3.15384615 4.5        1.         1.        ]\n",
      " [0.41176471 1.58823529 2.64705882 2.         1.         1.        ]]\n"
     ],
     "output_type": "stream"
    }
   ],
   "source": [
    "centroids = model.cluster_centers_\n",
    "print(centroids)"
   ],
   "metadata": {
    "collapsed": false,
    "pycharm": {
     "name": "#%%\n",
     "is_executing": false
    }
   }
  },
  {
   "cell_type": "code",
   "execution_count": 161,
   "outputs": [
    {
     "name": "stdout",
     "text": [
      "[3 3 3 2 2 2 2 3 3 2 2 2 2 2 6 6 4 4 4 4 4 6 6 4 4 4 4 3 3 3 2 2 2 2 3 3 2\n",
      " 2 2 2 2 6 6 4 4 4 4 4 6 6 4 4 4 4 3 3 3 8 8 8 8 3 3 8 8 8 8 8 3 3 8 8 8 8\n",
      " 8 7 7 4 4 4 4 3 3 3 8 8 8 8 3 3 8 8 8 8 8 7 7 8 8 8 8 8 7 7 8 8 8 8 3 3 3\n",
      " 2 2 2 2 6 6 2 2 2 2 2 6 6 4 4 4 4 4 6 6 4 4 4 4 3 3 3 2 2 2 2 3 3 2 2 2 2\n",
      " 2 6 6 4 4 4 4 4 6 6 4 4 4 4 3 3 3 8 8 8 8 3 3 8 8 8 8 8 7 7 8 8 8 8 8 7 7\n",
      " 4 4 4 4 3 3 3 8 8 8 8 7 7 8 8 8 8 8 7 7 8 8 8 8 8 7 7 1 1 1 1 9 9 9 2 2 2\n",
      " 2 9 9 2 2 2 2 2 6 6 0 0 0 0 0 6 6 0 0 0 0 9 9 9 5 5 5 5 9 9 5 5 5 5 5 6 6\n",
      " 0 0 0 0 0 6 6 0 0 0 0 9 9 9 5 5 5 5 9 9 5 5 5 5 5 7 7 1 1 1 1 1 7 7 1 1 1\n",
      " 1 9 9 9 5 5 5 5 7 7 1 1 1 1 1 7 7 1 1 1 1 1 7 7 1 1 1 1 9 9 9 5 5 5 5 9 9\n",
      " 0 0 0 0 0 6 6 0 0 0 0 0 6 6 0 0 0 0 9 9 9 5 5 5 5 9 9 5 5 5 5 5 9 9 0 0 0\n",
      " 0 0 6 6 0 0 0 0 9 9 9 5 5 5 5 9 9 5 5 5 5 5 9 9 1 1 1 1 1 7 7 1 1 1 1 9 9\n",
      " 9 5 5 5 5 9 9 1 1 1 1 1 7 7 1 1 1 1 1 7 7 1 1 1 1]\n"
     ],
     "output_type": "stream"
    }
   ],
   "source": [
    "cluster_labels = model.labels_[::4]\n",
    "print(cluster_labels)"
   ],
   "metadata": {
    "collapsed": false,
    "pycharm": {
     "name": "#%%\n",
     "is_executing": false
    }
   }
  },
  {
   "cell_type": "code",
   "execution_count": 162,
   "outputs": [
    {
     "data": {
      "text/plain": "<Figure size 432x288 with 1 Axes>",
      "image/png": "[encoded data removed]"
     },
     "metadata": {
      "needs_background": "light"
     },
     "output_type": "display_data"
    }
   ],
   "source": [
    "pyplot.scatter(X[:,0], X[:,1], c=model.labels_, cmap='rainbow')\n",
    "\n",
    "lines= pyplot.plot(centroids[0,0], centroids[0,1],'kx', color='black')\n",
    "pyplot.setp(lines, ms=15.0)\n",
    "pyplot.setp(lines, mew=2.0)\n",
    "\n",
    "lines= pyplot.plot(centroids[1,0], centroids[1,1],'kx', color='black')\n",
    "pyplot.setp(lines, ms=15.0)\n",
    "pyplot.setp(lines, mew=2.0)\n",
    "\n",
    "lines= pyplot.plot(centroids[2,0], centroids[2,1],'kx', color='black')\n",
    "pyplot.setp(lines, ms=15.0)\n",
    "pyplot.setp(lines, mew=2.0)\n",
    "\n",
    "lines= pyplot.plot(centroids[3,0], centroids[3,1],'kx', color='black')\n",
    "pyplot.setp(lines, ms=15.0)\n",
    "pyplot.setp(lines, mew=2.0)\n",
    "\n",
    "pyplot.show()\n"
   ],
   "metadata": {
    "collapsed": false,
    "pycharm": {
     "name": "#%%\n",
     "is_executing": false
    }
   }
  }
 ],
 "metadata": {
  "kernelspec": {
   "display_name": "Python 3",
   "language": "python",
   "name": "python3"
  },
  "language_info": {
   "codemirror_mode": {
    "name": "ipython",
    "version": 2
   },
   "file_extension": ".py",
   "mimetype": "text/x-python",
   "name": "python",
   "nbconvert_exporter": "python",
   "pygments_lexer": "ipython2",
   "version": "2.7.6"
  },
  "pycharm": {
   "stem_cell": {
    "cell_type": "raw",
    "source": [],
    "metadata": {
     "collapsed": false
    }
   }
  }
 },
 "nbformat": 4,
 "nbformat_minor": 0
}